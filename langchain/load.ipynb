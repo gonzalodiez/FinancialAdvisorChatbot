{
 "cells": [
  {
   "cell_type": "markdown",
   "metadata": {},
   "source": [
    "!pip install unstructured_inference\n",
    "\n",
    "!pip install pytesseract\n",
    "\n",
    "!pip install tesseract\n",
    "\n",
    "!sudo apt update\n",
    "\n",
    "!sudo apt install tesseract-ocr\n",
    "\n",
    "!sudo apt install libtesseract-dev"
   ]
  },
  {
   "cell_type": "markdown",
   "metadata": {},
   "source": [
    "---"
   ]
  },
  {
   "cell_type": "markdown",
   "metadata": {},
   "source": [
    "Load the documents, one per item in the list per pdf"
   ]
  },
  {
   "cell_type": "code",
   "execution_count": 17,
   "metadata": {},
   "outputs": [
    {
     "name": "stderr",
     "output_type": "stream",
     "text": [
      " 17%|█▋        | 174/998 [1:24:08<3:20:06, 14.57s/it]  The PDF <_io.BufferedReader name='/home/gonza/gonza/Financial_Chatbot_Advisor/dataset/NASDAQ_ADBE_2019.pdf'> contains a metadata field indicating that it should not allow text extraction. Ignoring this field and proceeding. Use the check_extractable if you want to raise an error in this case\n",
      " 40%|████      | 401/998 [3:05:13<3:39:18, 22.04s/it]"
     ]
    },
    {
     "ename": "PSEOF",
     "evalue": "Unexpected EOF",
     "output_type": "error",
     "traceback": [
      "\u001b[0;31m---------------------------------------------------------------------------\u001b[0m",
      "\u001b[0;31mPDFNoValidXRef\u001b[0m                            Traceback (most recent call last)",
      "File \u001b[0;32m~/miniconda3/envs/env3.10/lib/python3.10/site-packages/pdfminer/pdfdocument.py:721\u001b[0m, in \u001b[0;36mPDFDocument.__init__\u001b[0;34m(self, parser, password, caching, fallback)\u001b[0m\n\u001b[1;32m    720\u001b[0m \u001b[39mtry\u001b[39;00m:\n\u001b[0;32m--> 721\u001b[0m     pos \u001b[39m=\u001b[39m \u001b[39mself\u001b[39;49m\u001b[39m.\u001b[39;49mfind_xref(parser)\n\u001b[1;32m    722\u001b[0m     \u001b[39mself\u001b[39m\u001b[39m.\u001b[39mread_xref_from(parser, pos, \u001b[39mself\u001b[39m\u001b[39m.\u001b[39mxrefs)\n",
      "File \u001b[0;32m~/miniconda3/envs/env3.10/lib/python3.10/site-packages/pdfminer/pdfdocument.py:978\u001b[0m, in \u001b[0;36mPDFDocument.find_xref\u001b[0;34m(self, parser)\u001b[0m\n\u001b[1;32m    977\u001b[0m \u001b[39melse\u001b[39;00m:\n\u001b[0;32m--> 978\u001b[0m     \u001b[39mraise\u001b[39;00m PDFNoValidXRef(\u001b[39m\"\u001b[39m\u001b[39mUnexpected EOF\u001b[39m\u001b[39m\"\u001b[39m)\n\u001b[1;32m    979\u001b[0m log\u001b[39m.\u001b[39mdebug(\u001b[39m\"\u001b[39m\u001b[39mxref found: pos=\u001b[39m\u001b[39m%r\u001b[39;00m\u001b[39m\"\u001b[39m, prev)\n",
      "\u001b[0;31mPDFNoValidXRef\u001b[0m: Unexpected EOF",
      "\nDuring handling of the above exception, another exception occurred:\n",
      "\u001b[0;31mPSEOF\u001b[0m                                     Traceback (most recent call last)",
      "Cell \u001b[0;32mIn[17], line 4\u001b[0m\n\u001b[1;32m      1\u001b[0m \u001b[39mfrom\u001b[39;00m \u001b[39mlangchain\u001b[39;00m\u001b[39m.\u001b[39;00m\u001b[39mdocument_loaders\u001b[39;00m \u001b[39mimport\u001b[39;00m DirectoryLoader\n\u001b[1;32m      3\u001b[0m loader \u001b[39m=\u001b[39m DirectoryLoader(\u001b[39m\"\u001b[39m\u001b[39m/home/gonza/gonza/Financial_Chatbot_Advisor/dataset\u001b[39m\u001b[39m\"\u001b[39m,show_progress\u001b[39m=\u001b[39m\u001b[39mTrue\u001b[39;00m)\n\u001b[0;32m----> 4\u001b[0m docs \u001b[39m=\u001b[39m loader\u001b[39m.\u001b[39;49mload()\n",
      "File \u001b[0;32m~/miniconda3/envs/env3.10/lib/python3.10/site-packages/langchain/document_loaders/directory.py:133\u001b[0m, in \u001b[0;36mDirectoryLoader.load\u001b[0;34m(self)\u001b[0m\n\u001b[1;32m    131\u001b[0m \u001b[39melse\u001b[39;00m:\n\u001b[1;32m    132\u001b[0m     \u001b[39mfor\u001b[39;00m i \u001b[39min\u001b[39;00m items:\n\u001b[0;32m--> 133\u001b[0m         \u001b[39mself\u001b[39;49m\u001b[39m.\u001b[39;49mload_file(i, p, docs, pbar)\n\u001b[1;32m    135\u001b[0m \u001b[39mif\u001b[39;00m pbar:\n\u001b[1;32m    136\u001b[0m     pbar\u001b[39m.\u001b[39mclose()\n",
      "File \u001b[0;32m~/miniconda3/envs/env3.10/lib/python3.10/site-packages/langchain/document_loaders/directory.py:94\u001b[0m, in \u001b[0;36mDirectoryLoader.load_file\u001b[0;34m(self, item, path, docs, pbar)\u001b[0m\n\u001b[1;32m     92\u001b[0m         logger\u001b[39m.\u001b[39mwarning(\u001b[39mf\u001b[39m\u001b[39m\"\u001b[39m\u001b[39mError loading file \u001b[39m\u001b[39m{\u001b[39;00m\u001b[39mstr\u001b[39m(item)\u001b[39m}\u001b[39;00m\u001b[39m: \u001b[39m\u001b[39m{\u001b[39;00me\u001b[39m}\u001b[39;00m\u001b[39m\"\u001b[39m)\n\u001b[1;32m     93\u001b[0m     \u001b[39melse\u001b[39;00m:\n\u001b[0;32m---> 94\u001b[0m         \u001b[39mraise\u001b[39;00m e\n\u001b[1;32m     95\u001b[0m \u001b[39mfinally\u001b[39;00m:\n\u001b[1;32m     96\u001b[0m     \u001b[39mif\u001b[39;00m pbar:\n",
      "File \u001b[0;32m~/miniconda3/envs/env3.10/lib/python3.10/site-packages/langchain/document_loaders/directory.py:88\u001b[0m, in \u001b[0;36mDirectoryLoader.load_file\u001b[0;34m(self, item, path, docs, pbar)\u001b[0m\n\u001b[1;32m     86\u001b[0m \u001b[39mtry\u001b[39;00m:\n\u001b[1;32m     87\u001b[0m     logger\u001b[39m.\u001b[39mdebug(\u001b[39mf\u001b[39m\u001b[39m\"\u001b[39m\u001b[39mProcessing file: \u001b[39m\u001b[39m{\u001b[39;00m\u001b[39mstr\u001b[39m(item)\u001b[39m}\u001b[39;00m\u001b[39m\"\u001b[39m)\n\u001b[0;32m---> 88\u001b[0m     sub_docs \u001b[39m=\u001b[39m \u001b[39mself\u001b[39;49m\u001b[39m.\u001b[39;49mloader_cls(\u001b[39mstr\u001b[39;49m(item), \u001b[39m*\u001b[39;49m\u001b[39m*\u001b[39;49m\u001b[39mself\u001b[39;49m\u001b[39m.\u001b[39;49mloader_kwargs)\u001b[39m.\u001b[39;49mload()\n\u001b[1;32m     89\u001b[0m     docs\u001b[39m.\u001b[39mextend(sub_docs)\n\u001b[1;32m     90\u001b[0m \u001b[39mexcept\u001b[39;00m \u001b[39mException\u001b[39;00m \u001b[39mas\u001b[39;00m e:\n",
      "File \u001b[0;32m~/miniconda3/envs/env3.10/lib/python3.10/site-packages/langchain/document_loaders/unstructured.py:86\u001b[0m, in \u001b[0;36mUnstructuredBaseLoader.load\u001b[0;34m(self)\u001b[0m\n\u001b[1;32m     84\u001b[0m \u001b[39mdef\u001b[39;00m \u001b[39mload\u001b[39m(\u001b[39mself\u001b[39m) \u001b[39m-\u001b[39m\u001b[39m>\u001b[39m List[Document]:\n\u001b[1;32m     85\u001b[0m \u001b[39m    \u001b[39m\u001b[39m\"\"\"Load file.\"\"\"\u001b[39;00m\n\u001b[0;32m---> 86\u001b[0m     elements \u001b[39m=\u001b[39m \u001b[39mself\u001b[39;49m\u001b[39m.\u001b[39;49m_get_elements()\n\u001b[1;32m     87\u001b[0m     \u001b[39mif\u001b[39;00m \u001b[39mself\u001b[39m\u001b[39m.\u001b[39mmode \u001b[39m==\u001b[39m \u001b[39m\"\u001b[39m\u001b[39melements\u001b[39m\u001b[39m\"\u001b[39m:\n\u001b[1;32m     88\u001b[0m         docs: List[Document] \u001b[39m=\u001b[39m \u001b[39mlist\u001b[39m()\n",
      "File \u001b[0;32m~/miniconda3/envs/env3.10/lib/python3.10/site-packages/langchain/document_loaders/unstructured.py:169\u001b[0m, in \u001b[0;36mUnstructuredFileLoader._get_elements\u001b[0;34m(self)\u001b[0m\n\u001b[1;32m    166\u001b[0m \u001b[39mdef\u001b[39;00m \u001b[39m_get_elements\u001b[39m(\u001b[39mself\u001b[39m) \u001b[39m-\u001b[39m\u001b[39m>\u001b[39m List:\n\u001b[1;32m    167\u001b[0m     \u001b[39mfrom\u001b[39;00m \u001b[39munstructured\u001b[39;00m\u001b[39m.\u001b[39;00m\u001b[39mpartition\u001b[39;00m\u001b[39m.\u001b[39;00m\u001b[39mauto\u001b[39;00m \u001b[39mimport\u001b[39;00m partition\n\u001b[0;32m--> 169\u001b[0m     \u001b[39mreturn\u001b[39;00m partition(filename\u001b[39m=\u001b[39;49m\u001b[39mself\u001b[39;49m\u001b[39m.\u001b[39;49mfile_path, \u001b[39m*\u001b[39;49m\u001b[39m*\u001b[39;49m\u001b[39mself\u001b[39;49m\u001b[39m.\u001b[39;49munstructured_kwargs)\n",
      "File \u001b[0;32m~/miniconda3/envs/env3.10/lib/python3.10/site-packages/unstructured/partition/auto.py:180\u001b[0m, in \u001b[0;36mpartition\u001b[0;34m(filename, content_type, file, file_filename, url, include_page_breaks, strategy, encoding, paragraph_grouper, headers, ssl_verify, ocr_languages, pdf_infer_table_structure, xml_keep_tags, data_source_metadata, **kwargs)\u001b[0m\n\u001b[1;32m    173\u001b[0m     elements \u001b[39m=\u001b[39m partition_md(\n\u001b[1;32m    174\u001b[0m         filename\u001b[39m=\u001b[39mfilename,\n\u001b[1;32m    175\u001b[0m         file\u001b[39m=\u001b[39mfile,\n\u001b[1;32m    176\u001b[0m         include_page_breaks\u001b[39m=\u001b[39minclude_page_breaks,\n\u001b[1;32m    177\u001b[0m         \u001b[39m*\u001b[39m\u001b[39m*\u001b[39mkwargs,\n\u001b[1;32m    178\u001b[0m     )\n\u001b[1;32m    179\u001b[0m \u001b[39melif\u001b[39;00m filetype \u001b[39m==\u001b[39m FileType\u001b[39m.\u001b[39mPDF:\n\u001b[0;32m--> 180\u001b[0m     elements \u001b[39m=\u001b[39m partition_pdf(\n\u001b[1;32m    181\u001b[0m         filename\u001b[39m=\u001b[39;49mfilename,  \u001b[39m# type: ignore\u001b[39;49;00m\n\u001b[1;32m    182\u001b[0m         file\u001b[39m=\u001b[39;49mfile,  \u001b[39m# type: ignore\u001b[39;49;00m\n\u001b[1;32m    183\u001b[0m         url\u001b[39m=\u001b[39;49m\u001b[39mNone\u001b[39;49;00m,\n\u001b[1;32m    184\u001b[0m         include_page_breaks\u001b[39m=\u001b[39;49minclude_page_breaks,\n\u001b[1;32m    185\u001b[0m         infer_table_structure\u001b[39m=\u001b[39;49mpdf_infer_table_structure,\n\u001b[1;32m    186\u001b[0m         strategy\u001b[39m=\u001b[39;49mstrategy,\n\u001b[1;32m    187\u001b[0m         ocr_languages\u001b[39m=\u001b[39;49mocr_languages,\n\u001b[1;32m    188\u001b[0m         \u001b[39m*\u001b[39;49m\u001b[39m*\u001b[39;49mkwargs,\n\u001b[1;32m    189\u001b[0m     )\n\u001b[1;32m    190\u001b[0m \u001b[39melif\u001b[39;00m (filetype \u001b[39m==\u001b[39m FileType\u001b[39m.\u001b[39mPNG) \u001b[39mor\u001b[39;00m (filetype \u001b[39m==\u001b[39m FileType\u001b[39m.\u001b[39mJPG):\n\u001b[1;32m    191\u001b[0m     elements \u001b[39m=\u001b[39m partition_image(\n\u001b[1;32m    192\u001b[0m         filename\u001b[39m=\u001b[39mfilename,  \u001b[39m# type: ignore\u001b[39;00m\n\u001b[1;32m    193\u001b[0m         file\u001b[39m=\u001b[39mfile,  \u001b[39m# type: ignore\u001b[39;00m\n\u001b[0;32m   (...)\u001b[0m\n\u001b[1;32m    198\u001b[0m         \u001b[39m*\u001b[39m\u001b[39m*\u001b[39mkwargs,\n\u001b[1;32m    199\u001b[0m     )\n",
      "File \u001b[0;32m~/miniconda3/envs/env3.10/lib/python3.10/site-packages/unstructured/documents/elements.py:214\u001b[0m, in \u001b[0;36mprocess_metadata.<locals>.decorator.<locals>.wrapper\u001b[0;34m(*args, **kwargs)\u001b[0m\n\u001b[1;32m    212\u001b[0m \u001b[39m@wraps\u001b[39m(func)\n\u001b[1;32m    213\u001b[0m \u001b[39mdef\u001b[39;00m \u001b[39mwrapper\u001b[39m(\u001b[39m*\u001b[39margs, \u001b[39m*\u001b[39m\u001b[39m*\u001b[39mkwargs):\n\u001b[0;32m--> 214\u001b[0m     elements \u001b[39m=\u001b[39m func(\u001b[39m*\u001b[39;49margs, \u001b[39m*\u001b[39;49m\u001b[39m*\u001b[39;49mkwargs)\n\u001b[1;32m    215\u001b[0m     sig \u001b[39m=\u001b[39m inspect\u001b[39m.\u001b[39msignature(func)\n\u001b[1;32m    216\u001b[0m     params \u001b[39m=\u001b[39m \u001b[39mdict\u001b[39m(\u001b[39m*\u001b[39m\u001b[39m*\u001b[39m\u001b[39mdict\u001b[39m(\u001b[39mzip\u001b[39m(sig\u001b[39m.\u001b[39mparameters, args)), \u001b[39m*\u001b[39m\u001b[39m*\u001b[39mkwargs)\n",
      "File \u001b[0;32m~/miniconda3/envs/env3.10/lib/python3.10/site-packages/unstructured/file_utils/filetype.py:531\u001b[0m, in \u001b[0;36madd_metadata_with_filetype.<locals>.decorator.<locals>.wrapper\u001b[0;34m(*args, **kwargs)\u001b[0m\n\u001b[1;32m    529\u001b[0m \u001b[39m@wraps\u001b[39m(func)\n\u001b[1;32m    530\u001b[0m \u001b[39mdef\u001b[39;00m \u001b[39mwrapper\u001b[39m(\u001b[39m*\u001b[39margs, \u001b[39m*\u001b[39m\u001b[39m*\u001b[39mkwargs):\n\u001b[0;32m--> 531\u001b[0m     elements \u001b[39m=\u001b[39m func(\u001b[39m*\u001b[39;49margs, \u001b[39m*\u001b[39;49m\u001b[39m*\u001b[39;49mkwargs)\n\u001b[1;32m    532\u001b[0m     sig \u001b[39m=\u001b[39m inspect\u001b[39m.\u001b[39msignature(func)\n\u001b[1;32m    533\u001b[0m     params \u001b[39m=\u001b[39m \u001b[39mdict\u001b[39m(\u001b[39m*\u001b[39m\u001b[39m*\u001b[39m\u001b[39mdict\u001b[39m(\u001b[39mzip\u001b[39m(sig\u001b[39m.\u001b[39mparameters, args)), \u001b[39m*\u001b[39m\u001b[39m*\u001b[39mkwargs)\n",
      "File \u001b[0;32m~/miniconda3/envs/env3.10/lib/python3.10/site-packages/unstructured/partition/pdf.py:85\u001b[0m, in \u001b[0;36mpartition_pdf\u001b[0;34m(filename, file, include_page_breaks, strategy, infer_table_structure, ocr_languages, max_partition, include_metadata, metadata_filename, **kwargs)\u001b[0m\n\u001b[1;32m     55\u001b[0m \u001b[39m\u001b[39m\u001b[39m\"\"\"Parses a pdf document into a list of interpreted elements.\u001b[39;00m\n\u001b[1;32m     56\u001b[0m \u001b[39mParameters\u001b[39;00m\n\u001b[1;32m     57\u001b[0m \u001b[39m----------\u001b[39;00m\n\u001b[0;32m   (...)\u001b[0m\n\u001b[1;32m     82\u001b[0m \u001b[39m    no maximum is applied. Only applies to the \"ocr_only\" strategy.\u001b[39;00m\n\u001b[1;32m     83\u001b[0m \u001b[39m\"\"\"\u001b[39;00m\n\u001b[1;32m     84\u001b[0m exactly_one(filename\u001b[39m=\u001b[39mfilename, file\u001b[39m=\u001b[39mfile)\n\u001b[0;32m---> 85\u001b[0m \u001b[39mreturn\u001b[39;00m partition_pdf_or_image(\n\u001b[1;32m     86\u001b[0m     filename\u001b[39m=\u001b[39;49mfilename,\n\u001b[1;32m     87\u001b[0m     file\u001b[39m=\u001b[39;49mfile,\n\u001b[1;32m     88\u001b[0m     include_page_breaks\u001b[39m=\u001b[39;49minclude_page_breaks,\n\u001b[1;32m     89\u001b[0m     strategy\u001b[39m=\u001b[39;49mstrategy,\n\u001b[1;32m     90\u001b[0m     infer_table_structure\u001b[39m=\u001b[39;49minfer_table_structure,\n\u001b[1;32m     91\u001b[0m     ocr_languages\u001b[39m=\u001b[39;49mocr_languages,\n\u001b[1;32m     92\u001b[0m     max_partition\u001b[39m=\u001b[39;49mmax_partition,\n\u001b[1;32m     93\u001b[0m     \u001b[39m*\u001b[39;49m\u001b[39m*\u001b[39;49mkwargs,\n\u001b[1;32m     94\u001b[0m )\n",
      "File \u001b[0;32m~/miniconda3/envs/env3.10/lib/python3.10/site-packages/unstructured/partition/pdf.py:127\u001b[0m, in \u001b[0;36mpartition_pdf_or_image\u001b[0;34m(filename, file, is_image, include_page_breaks, strategy, infer_table_structure, ocr_languages, max_partition, **kwargs)\u001b[0m\n\u001b[1;32m    121\u001b[0m \u001b[39m# TODO(alan): Extract information about the filetype to be processed from the template\u001b[39;00m\n\u001b[1;32m    122\u001b[0m \u001b[39m# route. Decoding the routing should probably be handled by a single function designed for\u001b[39;00m\n\u001b[1;32m    123\u001b[0m \u001b[39m# that task so as routing design changes, those changes are implemented in a single\u001b[39;00m\n\u001b[1;32m    124\u001b[0m \u001b[39m# function.\u001b[39;00m\n\u001b[1;32m    126\u001b[0m \u001b[39mif\u001b[39;00m \u001b[39mnot\u001b[39;00m is_image:\n\u001b[0;32m--> 127\u001b[0m     extracted_elements \u001b[39m=\u001b[39m extractable_elements(\n\u001b[1;32m    128\u001b[0m         filename\u001b[39m=\u001b[39;49mfilename,\n\u001b[1;32m    129\u001b[0m         file\u001b[39m=\u001b[39;49mspooled_to_bytes_io_if_needed(file),\n\u001b[1;32m    130\u001b[0m         include_page_breaks\u001b[39m=\u001b[39;49minclude_page_breaks,\n\u001b[1;32m    131\u001b[0m     )\n\u001b[1;32m    132\u001b[0m     pdf_text_extractable \u001b[39m=\u001b[39m \u001b[39many\u001b[39m(\n\u001b[1;32m    133\u001b[0m         \u001b[39misinstance\u001b[39m(el, Text) \u001b[39mand\u001b[39;00m el\u001b[39m.\u001b[39mtext\u001b[39m.\u001b[39mstrip() \u001b[39mfor\u001b[39;00m el \u001b[39min\u001b[39;00m extracted_elements\n\u001b[1;32m    134\u001b[0m     )\n\u001b[1;32m    135\u001b[0m \u001b[39melse\u001b[39;00m:\n",
      "File \u001b[0;32m~/miniconda3/envs/env3.10/lib/python3.10/site-packages/unstructured/partition/pdf.py:102\u001b[0m, in \u001b[0;36mextractable_elements\u001b[0;34m(filename, file, include_page_breaks)\u001b[0m\n\u001b[1;32m     97\u001b[0m \u001b[39mdef\u001b[39;00m \u001b[39mextractable_elements\u001b[39m(\n\u001b[1;32m     98\u001b[0m     filename: \u001b[39mstr\u001b[39m \u001b[39m=\u001b[39m \u001b[39m\"\u001b[39m\u001b[39m\"\u001b[39m,\n\u001b[1;32m     99\u001b[0m     file: Optional[Union[\u001b[39mbytes\u001b[39m, BinaryIO, SpooledTemporaryFile]] \u001b[39m=\u001b[39m \u001b[39mNone\u001b[39;00m,\n\u001b[1;32m    100\u001b[0m     include_page_breaks: \u001b[39mbool\u001b[39m \u001b[39m=\u001b[39m \u001b[39mFalse\u001b[39;00m,\n\u001b[1;32m    101\u001b[0m ):\n\u001b[0;32m--> 102\u001b[0m     \u001b[39mreturn\u001b[39;00m _partition_pdf_with_pdfminer(\n\u001b[1;32m    103\u001b[0m         filename\u001b[39m=\u001b[39;49mfilename,\n\u001b[1;32m    104\u001b[0m         file\u001b[39m=\u001b[39;49mfile,\n\u001b[1;32m    105\u001b[0m         include_page_breaks\u001b[39m=\u001b[39;49minclude_page_breaks,\n\u001b[1;32m    106\u001b[0m     )\n",
      "File \u001b[0;32m~/miniconda3/envs/env3.10/lib/python3.10/site-packages/unstructured/utils.py:43\u001b[0m, in \u001b[0;36mrequires_dependencies.<locals>.decorator.<locals>.wrapper\u001b[0;34m(*args, **kwargs)\u001b[0m\n\u001b[1;32m     34\u001b[0m \u001b[39mif\u001b[39;00m \u001b[39mlen\u001b[39m(missing_deps) \u001b[39m>\u001b[39m \u001b[39m0\u001b[39m:\n\u001b[1;32m     35\u001b[0m     \u001b[39mraise\u001b[39;00m \u001b[39mImportError\u001b[39;00m(\n\u001b[1;32m     36\u001b[0m         \u001b[39mf\u001b[39m\u001b[39m\"\u001b[39m\u001b[39mFollowing dependencies are missing: \u001b[39m\u001b[39m{\u001b[39;00m\u001b[39m'\u001b[39m\u001b[39m, \u001b[39m\u001b[39m'\u001b[39m\u001b[39m.\u001b[39mjoin(missing_deps)\u001b[39m}\u001b[39;00m\u001b[39m. \u001b[39m\u001b[39m\"\u001b[39m\n\u001b[1;32m     37\u001b[0m         \u001b[39m+\u001b[39m (\n\u001b[0;32m   (...)\u001b[0m\n\u001b[1;32m     41\u001b[0m         ),\n\u001b[1;32m     42\u001b[0m     )\n\u001b[0;32m---> 43\u001b[0m \u001b[39mreturn\u001b[39;00m func(\u001b[39m*\u001b[39;49margs, \u001b[39m*\u001b[39;49m\u001b[39m*\u001b[39;49mkwargs)\n",
      "File \u001b[0;32m~/miniconda3/envs/env3.10/lib/python3.10/site-packages/unstructured/partition/pdf.py:265\u001b[0m, in \u001b[0;36m_partition_pdf_with_pdfminer\u001b[0;34m(filename, file, include_page_breaks)\u001b[0m\n\u001b[1;32m    263\u001b[0m     \u001b[39mwith\u001b[39;00m open_filename(filename, \u001b[39m\"\u001b[39m\u001b[39mrb\u001b[39m\u001b[39m\"\u001b[39m) \u001b[39mas\u001b[39;00m fp:\n\u001b[1;32m    264\u001b[0m         fp \u001b[39m=\u001b[39m cast(BinaryIO, fp)\n\u001b[0;32m--> 265\u001b[0m         elements \u001b[39m=\u001b[39m _process_pdfminer_pages(\n\u001b[1;32m    266\u001b[0m             fp\u001b[39m=\u001b[39;49mfp,\n\u001b[1;32m    267\u001b[0m             filename\u001b[39m=\u001b[39;49mfilename,\n\u001b[1;32m    268\u001b[0m             include_page_breaks\u001b[39m=\u001b[39;49minclude_page_breaks,\n\u001b[1;32m    269\u001b[0m         )\n\u001b[1;32m    271\u001b[0m \u001b[39melif\u001b[39;00m file:\n\u001b[1;32m    272\u001b[0m     fp \u001b[39m=\u001b[39m cast(BinaryIO, file)\n",
      "File \u001b[0;32m~/miniconda3/envs/env3.10/lib/python3.10/site-packages/unstructured/partition/pdf.py:309\u001b[0m, in \u001b[0;36m_process_pdfminer_pages\u001b[0;34m(fp, filename, include_page_breaks)\u001b[0m\n\u001b[1;32m    306\u001b[0m \u001b[39m\u001b[39m\u001b[39m\"\"\"Uses PDF miner to split a document into pages and process them.\"\"\"\u001b[39;00m\n\u001b[1;32m    307\u001b[0m elements: List[Element] \u001b[39m=\u001b[39m []\n\u001b[0;32m--> 309\u001b[0m \u001b[39mfor\u001b[39;00m i, page \u001b[39min\u001b[39;00m \u001b[39menumerate\u001b[39m(extract_pages(fp)):  \u001b[39m# type: ignore\u001b[39;00m\n\u001b[1;32m    310\u001b[0m     width, height \u001b[39m=\u001b[39m page\u001b[39m.\u001b[39mwidth, page\u001b[39m.\u001b[39mheight\n\u001b[1;32m    312\u001b[0m     text_segments \u001b[39m=\u001b[39m []\n",
      "File \u001b[0;32m~/miniconda3/envs/env3.10/lib/python3.10/site-packages/pdfminer/high_level.py:208\u001b[0m, in \u001b[0;36mextract_pages\u001b[0;34m(pdf_file, password, page_numbers, maxpages, caching, laparams)\u001b[0m\n\u001b[1;32m    206\u001b[0m device \u001b[39m=\u001b[39m PDFPageAggregator(resource_manager, laparams\u001b[39m=\u001b[39mlaparams)\n\u001b[1;32m    207\u001b[0m interpreter \u001b[39m=\u001b[39m PDFPageInterpreter(resource_manager, device)\n\u001b[0;32m--> 208\u001b[0m \u001b[39mfor\u001b[39;00m page \u001b[39min\u001b[39;00m PDFPage\u001b[39m.\u001b[39mget_pages(\n\u001b[1;32m    209\u001b[0m     fp, page_numbers, maxpages\u001b[39m=\u001b[39mmaxpages, password\u001b[39m=\u001b[39mpassword, caching\u001b[39m=\u001b[39mcaching\n\u001b[1;32m    210\u001b[0m ):\n\u001b[1;32m    211\u001b[0m     interpreter\u001b[39m.\u001b[39mprocess_page(page)\n\u001b[1;32m    212\u001b[0m     layout \u001b[39m=\u001b[39m device\u001b[39m.\u001b[39mget_result()\n",
      "File \u001b[0;32m~/miniconda3/envs/env3.10/lib/python3.10/site-packages/pdfminer/pdfpage.py:151\u001b[0m, in \u001b[0;36mPDFPage.get_pages\u001b[0;34m(cls, fp, pagenos, maxpages, password, caching, check_extractable)\u001b[0m\n\u001b[1;32m    149\u001b[0m parser \u001b[39m=\u001b[39m PDFParser(fp)\n\u001b[1;32m    150\u001b[0m \u001b[39m# Create a PDF document object that stores the document structure.\u001b[39;00m\n\u001b[0;32m--> 151\u001b[0m doc \u001b[39m=\u001b[39m PDFDocument(parser, password\u001b[39m=\u001b[39;49mpassword, caching\u001b[39m=\u001b[39;49mcaching)\n\u001b[1;32m    152\u001b[0m \u001b[39m# Check if the document allows text extraction.\u001b[39;00m\n\u001b[1;32m    153\u001b[0m \u001b[39m# If not, warn the user and proceed.\u001b[39;00m\n\u001b[1;32m    154\u001b[0m \u001b[39mif\u001b[39;00m \u001b[39mnot\u001b[39;00m doc\u001b[39m.\u001b[39mis_extractable:\n",
      "File \u001b[0;32m~/miniconda3/envs/env3.10/lib/python3.10/site-packages/pdfminer/pdfdocument.py:727\u001b[0m, in \u001b[0;36mPDFDocument.__init__\u001b[0;34m(self, parser, password, caching, fallback)\u001b[0m\n\u001b[1;32m    725\u001b[0m         parser\u001b[39m.\u001b[39mfallback \u001b[39m=\u001b[39m \u001b[39mTrue\u001b[39;00m\n\u001b[1;32m    726\u001b[0m         newxref \u001b[39m=\u001b[39m PDFXRefFallback()\n\u001b[0;32m--> 727\u001b[0m         newxref\u001b[39m.\u001b[39;49mload(parser)\n\u001b[1;32m    728\u001b[0m         \u001b[39mself\u001b[39m\u001b[39m.\u001b[39mxrefs\u001b[39m.\u001b[39mappend(newxref)\n\u001b[1;32m    730\u001b[0m \u001b[39mfor\u001b[39;00m xref \u001b[39min\u001b[39;00m \u001b[39mself\u001b[39m\u001b[39m.\u001b[39mxrefs:\n",
      "File \u001b[0;32m~/miniconda3/envs/env3.10/lib/python3.10/site-packages/pdfminer/pdfdocument.py:241\u001b[0m, in \u001b[0;36mPDFXRefFallback.load\u001b[0;34m(self, parser)\u001b[0m\n\u001b[1;32m    239\u001b[0m \u001b[39m# expand ObjStm.\u001b[39;00m\n\u001b[1;32m    240\u001b[0m parser\u001b[39m.\u001b[39mseek(pos)\n\u001b[0;32m--> 241\u001b[0m (_, obj) \u001b[39m=\u001b[39m parser\u001b[39m.\u001b[39;49mnextobject()\n\u001b[1;32m    242\u001b[0m \u001b[39mif\u001b[39;00m \u001b[39misinstance\u001b[39m(obj, PDFStream) \u001b[39mand\u001b[39;00m obj\u001b[39m.\u001b[39mget(\u001b[39m\"\u001b[39m\u001b[39mType\u001b[39m\u001b[39m\"\u001b[39m) \u001b[39mis\u001b[39;00m LITERAL_OBJSTM:\n\u001b[1;32m    243\u001b[0m     stream \u001b[39m=\u001b[39m stream_value(obj)\n",
      "File \u001b[0;32m~/miniconda3/envs/env3.10/lib/python3.10/site-packages/pdfminer/psparser.py:609\u001b[0m, in \u001b[0;36mPSStackParser.nextobject\u001b[0;34m(self)\u001b[0m\n\u001b[1;32m    601\u001b[0m \u001b[39m\u001b[39m\u001b[39m\"\"\"Yields a list of objects.\u001b[39;00m\n\u001b[1;32m    602\u001b[0m \n\u001b[1;32m    603\u001b[0m \u001b[39mArrays and dictionaries are represented as Python lists and\u001b[39;00m\n\u001b[0;32m   (...)\u001b[0m\n\u001b[1;32m    606\u001b[0m \u001b[39m:return: keywords, literals, strings, numbers, arrays and dictionaries.\u001b[39;00m\n\u001b[1;32m    607\u001b[0m \u001b[39m\"\"\"\u001b[39;00m\n\u001b[1;32m    608\u001b[0m \u001b[39mwhile\u001b[39;00m \u001b[39mnot\u001b[39;00m \u001b[39mself\u001b[39m\u001b[39m.\u001b[39mresults:\n\u001b[0;32m--> 609\u001b[0m     (pos, token) \u001b[39m=\u001b[39m \u001b[39mself\u001b[39;49m\u001b[39m.\u001b[39;49mnexttoken()\n\u001b[1;32m    610\u001b[0m     \u001b[39mif\u001b[39;00m \u001b[39misinstance\u001b[39m(token, (\u001b[39mint\u001b[39m, \u001b[39mfloat\u001b[39m, \u001b[39mbool\u001b[39m, \u001b[39mstr\u001b[39m, \u001b[39mbytes\u001b[39m, PSLiteral)):\n\u001b[1;32m    611\u001b[0m         \u001b[39m# normal token\u001b[39;00m\n\u001b[1;32m    612\u001b[0m         \u001b[39mself\u001b[39m\u001b[39m.\u001b[39mpush((pos, token))\n",
      "File \u001b[0;32m~/miniconda3/envs/env3.10/lib/python3.10/site-packages/pdfminer/psparser.py:526\u001b[0m, in \u001b[0;36mPSBaseParser.nexttoken\u001b[0;34m(self)\u001b[0m\n\u001b[1;32m    524\u001b[0m \u001b[39mdef\u001b[39;00m \u001b[39mnexttoken\u001b[39m(\u001b[39mself\u001b[39m) \u001b[39m-\u001b[39m\u001b[39m>\u001b[39m Tuple[\u001b[39mint\u001b[39m, PSBaseParserToken]:\n\u001b[1;32m    525\u001b[0m     \u001b[39mwhile\u001b[39;00m \u001b[39mnot\u001b[39;00m \u001b[39mself\u001b[39m\u001b[39m.\u001b[39m_tokens:\n\u001b[0;32m--> 526\u001b[0m         \u001b[39mself\u001b[39;49m\u001b[39m.\u001b[39;49mfillbuf()\n\u001b[1;32m    527\u001b[0m         \u001b[39mself\u001b[39m\u001b[39m.\u001b[39mcharpos \u001b[39m=\u001b[39m \u001b[39mself\u001b[39m\u001b[39m.\u001b[39m_parse1(\u001b[39mself\u001b[39m\u001b[39m.\u001b[39mbuf, \u001b[39mself\u001b[39m\u001b[39m.\u001b[39mcharpos)\n\u001b[1;32m    528\u001b[0m     token \u001b[39m=\u001b[39m \u001b[39mself\u001b[39m\u001b[39m.\u001b[39m_tokens\u001b[39m.\u001b[39mpop(\u001b[39m0\u001b[39m)\n",
      "File \u001b[0;32m~/miniconda3/envs/env3.10/lib/python3.10/site-packages/pdfminer/psparser.py:239\u001b[0m, in \u001b[0;36mPSBaseParser.fillbuf\u001b[0;34m(self)\u001b[0m\n\u001b[1;32m    237\u001b[0m \u001b[39mself\u001b[39m\u001b[39m.\u001b[39mbuf \u001b[39m=\u001b[39m \u001b[39mself\u001b[39m\u001b[39m.\u001b[39mfp\u001b[39m.\u001b[39mread(\u001b[39mself\u001b[39m\u001b[39m.\u001b[39mBUFSIZ)\n\u001b[1;32m    238\u001b[0m \u001b[39mif\u001b[39;00m \u001b[39mnot\u001b[39;00m \u001b[39mself\u001b[39m\u001b[39m.\u001b[39mbuf:\n\u001b[0;32m--> 239\u001b[0m     \u001b[39mraise\u001b[39;00m PSEOF(\u001b[39m\"\u001b[39m\u001b[39mUnexpected EOF\u001b[39m\u001b[39m\"\u001b[39m)\n\u001b[1;32m    240\u001b[0m \u001b[39mself\u001b[39m\u001b[39m.\u001b[39mcharpos \u001b[39m=\u001b[39m \u001b[39m0\u001b[39m\n\u001b[1;32m    241\u001b[0m \u001b[39mreturn\u001b[39;00m\n",
      "\u001b[0;31mPSEOF\u001b[0m: Unexpected EOF"
     ]
    }
   ],
   "source": [
    "from langchain.document_loaders import DirectoryLoader\n",
    "\n",
    "loader = DirectoryLoader(\"/home/gonza/gonza/Financial_Chatbot_Advisor/dataset\",show_progress=True)\n",
    "docs = loader.load()"
   ]
  },
  {
   "cell_type": "code",
   "execution_count": null,
   "metadata": {},
   "outputs": [],
   "source": [
    "len(docs)"
   ]
  },
  {
   "cell_type": "markdown",
   "metadata": {},
   "source": [
    "Instanciate the splitter"
   ]
  },
  {
   "cell_type": "code",
   "execution_count": 18,
   "metadata": {},
   "outputs": [],
   "source": [
    "from langchain.text_splitter import RecursiveCharacterTextSplitter\n",
    "r_splitter = RecursiveCharacterTextSplitter(\n",
    "    chunk_size=2000,\n",
    "    chunk_overlap=100 ,\n",
    "    separators=[\"\\n\\n\", \"\\n\", \"(?<=\\. )\", \" \", \"\"],\n",
    "    length_function=len\n",
    "    )"
   ]
  },
  {
   "cell_type": "markdown",
   "metadata": {},
   "source": [
    "Do the spliting"
   ]
  },
  {
   "cell_type": "code",
   "execution_count": null,
   "metadata": {},
   "outputs": [
    {
     "data": {
      "text/plain": [
       "11247"
      ]
     },
     "execution_count": 7,
     "metadata": {},
     "output_type": "execute_result"
    }
   ],
   "source": [
    "splits = r_splitter.split_documents(docs)\n",
    "len(splits)"
   ]
  },
  {
   "cell_type": "markdown",
   "metadata": {},
   "source": [
    "Load it to the Chroma Vectorstore"
   ]
  },
  {
   "cell_type": "code",
   "execution_count": 9,
   "metadata": {},
   "outputs": [
    {
     "name": "stderr",
     "output_type": "stream",
     "text": [
      "100%|██████████| 5/5 [02:24<00:00, 28.92s/it]\n"
     ]
    }
   ],
   "source": [
    "from langchain.document_loaders import DirectoryLoader\n",
    "\n",
    "loader = DirectoryLoader(\"/home/gonza/gonza/Financial_Chatbot_Advisor/dataset_prueba_5\",show_progress=True)\n",
    "docs = loader.load()"
   ]
  },
  {
   "cell_type": "code",
   "execution_count": 13,
   "metadata": {},
   "outputs": [
    {
     "data": {
      "text/plain": [
       "{'source': '/home/gonza/gonza/Financial_Chatbot_Advisor/dataset_prueba_5/AMEX_ATRS_2012.pdf'}"
      ]
     },
     "execution_count": 13,
     "metadata": {},
     "output_type": "execute_result"
    }
   ],
   "source": [
    "docs[0].metadata"
   ]
  },
  {
   "cell_type": "code",
   "execution_count": 15,
   "metadata": {},
   "outputs": [
    {
     "data": {
      "text/plain": [
       "dict"
      ]
     },
     "execution_count": 15,
     "metadata": {},
     "output_type": "execute_result"
    }
   ],
   "source": [
    "docs[0].metadata"
   ]
  },
  {
   "cell_type": "code",
   "execution_count": null,
   "metadata": {},
   "outputs": [],
   "source": [
    "split -> sacar metadata"
   ]
  },
  {
   "cell_type": "code",
   "execution_count": 1,
   "metadata": {},
   "outputs": [],
   "source": [
    "import pandas as pd\n",
    "df=pd.read_csv('/home/gonza/gonza/Financial_Chatbot_Advisor/git/FinancialAdvisorChatbot/dataset_v2.csv')"
   ]
  },
  {
   "cell_type": "code",
   "execution_count": 2,
   "metadata": {},
   "outputs": [
    {
     "data": {
      "text/plain": [
       "Index(['name', 'exchange', 'year', 'document', 'Name', 'Market Cap', 'Sector',\n",
       "       'Industry', 'Country', '_split_id', 'page', '_split_overlap'],\n",
       "      dtype='object')"
      ]
     },
     "execution_count": 2,
     "metadata": {},
     "output_type": "execute_result"
    }
   ],
   "source": [
    "df.columns"
   ]
  },
  {
   "cell_type": "code",
   "execution_count": 3,
   "metadata": {},
   "outputs": [],
   "source": [
    "splits=df.document.tolist()"
   ]
  },
  {
   "cell_type": "code",
   "execution_count": 4,
   "metadata": {},
   "outputs": [],
   "source": [
    "metadata=df.drop(columns='document', axis=1)"
   ]
  },
  {
   "cell_type": "code",
   "execution_count": 8,
   "metadata": {},
   "outputs": [],
   "source": [
    "metadata=metadata.to_dict(orient='records')"
   ]
  },
  {
   "cell_type": "code",
   "execution_count": 9,
   "metadata": {},
   "outputs": [
    {
     "data": {
      "text/plain": [
       "list"
      ]
     },
     "execution_count": 9,
     "metadata": {},
     "output_type": "execute_result"
    }
   ],
   "source": [
    "type(metadata)"
   ]
  },
  {
   "cell_type": "code",
   "execution_count": 26,
   "metadata": {},
   "outputs": [],
   "source": [
    "splits_strings = [str(elemento) for elemento in splits]\n"
   ]
  },
  {
   "cell_type": "code",
   "execution_count": 15,
   "metadata": {},
   "outputs": [],
   "source": [
    "from langchain.embeddings import HuggingFaceEmbeddings, SentenceTransformerEmbeddings\n",
    "\n",
    "embeddings = HuggingFaceEmbeddings(model_name=\"multi-qa-MiniLM-L6-cos-v1\")"
   ]
  },
  {
   "cell_type": "code",
   "execution_count": 28,
   "metadata": {},
   "outputs": [],
   "source": [
    "from langchain.vectorstores import Chroma\n",
    "from langchain.embeddings import HuggingFaceEmbeddings, SentenceTransformerEmbeddings\n",
    "\n",
    "embeddings = HuggingFaceEmbeddings(model_name=\"multi-qa-MiniLM-L6-cos-v1\")\n",
    "db_summarized = Chroma.from_texts(\n",
    "    texts=splits_strings,\n",
    "    metadatas=metadata,\n",
    "    persist_directory=\"chroma_full\",\n",
    "    embedding=embeddings,\n",
    "    collection_name='dataset_by_chunk'\n",
    ")"
   ]
  },
  {
   "cell_type": "code",
   "execution_count": 8,
   "metadata": {},
   "outputs": [],
   "source": [
    "from langchain.vectorstores import Chroma\n",
    "from langchain.embeddings import HuggingFaceEmbeddings, SentenceTransformerEmbeddings\n",
    "\n",
    "embeddings = HuggingFaceEmbeddings(model_name=\"multi-qa-MiniLM-L6-cos-v1\")\n",
    "#sentence_transformer_ef = embedding_functions.SentenceTransformerEmbeddingFunction(model_name=\"multi-qa-MiniLM-L6-cos-v1\")\n",
    "#embeddings = SentenceTransformerEmbeddings(model_name=\"multi-qa-MiniLM-L6-cos-v1\")\n",
    "\n",
    "db = Chroma.from_documents(splits,persist_directory=\"chroma_30\", embedding=embeddings)\n",
    "db.persist()"
   ]
  },
  {
   "cell_type": "code",
   "execution_count": null,
   "metadata": {},
   "outputs": [],
   "source": []
  },
  {
   "cell_type": "markdown",
   "metadata": {},
   "source": [
    "Try if it worked"
   ]
  },
  {
   "cell_type": "code",
   "execution_count": 7,
   "metadata": {},
   "outputs": [
    {
     "data": {
      "text/plain": [
       "'UNITED STATES SECURITIES AND EXCHANGE COMMISSION Washington, D.C. 20549\\n\\nFORM 10-K\\n\\n[X] ANNUAL REPORT PURSUANT TO SECTION 13 OR 15 (D) OF THE SECURITIES EXCHANGE ACT OF 1934 FOR THE FISCAL YEAR ENDED DECEMBER 31, 2012\\n\\n[ ] TRANSITION REPORT PURSUANT TO SECTION 13 OR 15 (d) OF THE SECURITIES EXCHANGE ACT OF 1934 For transition period from __________ to __________\\n\\nCommission file number 1-32302\\n\\nANTARES PHARMA, INC. (Exact name of registrant as specified in its charter)\\n\\nA Delaware corporation\\n\\nI.R.S. Employer Identification No. 41-1350192\\n\\n100 Princeton South, Suite 300, Ewing, NJ 08628\\n\\nRegistrant’s telephone number, including area code: (609) 359-3020\\n\\nSecurities registered pursuant to section 12(b) of the Act:\\n\\nTitle of each class Common Stock\\n\\nName of each exchange on which registered NASDAQ Capital Market\\n\\nSecurities registered pursuant to section 12(g) of the Act: None\\n\\nIndicate by check mark if the registrant is a well-known seasoned issuer, as defined in Rule 405 of the Securities Act. YES[ ] NO[X]\\n\\nIndicate by check mark if the registrant is not required to file reports pursuant to Section 13 or Section 15(d) of the Act. YES[ ] NO[X]\\n\\nIndicate by check mark whether the registrant (1) has filed all reports required to be filed by Section 13 or 15(d) of the Securities Exchange Act of 1934 during the preceding 12 months (or for such shorter period that the registrant was required to file such reports) and (2) has been subject to such filing requirements for the past 90 days. YES[X] NO[ ]\\n\\nIndicate by check mark whether the registrant has submitted electronically and posted on its corporate Web site, if any, every Interactive Data File required to be submitted and posted pursuant to Rule 405 of Regulation S-T during the preceding 12 months (or for such shorter period that the registrant was required to submit and post such files). YES[X] NO[ ]'"
      ]
     },
     "execution_count": 7,
     "metadata": {},
     "output_type": "execute_result"
    }
   ],
   "source": [
    "db.get()['documents'][0]"
   ]
  },
  {
   "cell_type": "markdown",
   "metadata": {},
   "source": []
  }
 ],
 "metadata": {
  "kernelspec": {
   "display_name": "env3.10",
   "language": "python",
   "name": "python3"
  },
  "language_info": {
   "codemirror_mode": {
    "name": "ipython",
    "version": 3
   },
   "file_extension": ".py",
   "mimetype": "text/x-python",
   "name": "python",
   "nbconvert_exporter": "python",
   "pygments_lexer": "ipython3",
   "version": "3.10.12"
  },
  "orig_nbformat": 4
 },
 "nbformat": 4,
 "nbformat_minor": 2
}
