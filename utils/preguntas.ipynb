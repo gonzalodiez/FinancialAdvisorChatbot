{
 "cells": [
  {
   "cell_type": "code",
   "execution_count": null,
   "metadata": {},
   "outputs": [],
   "source": [
    "# Ejemplo de uso \n",
    "\n",
    "from chromadb.utils import embedding_functions\n",
    "\n",
    "#default_ef = embedding_functions.DefaultEmbeddingFunction()\n",
    "sentence_transformer_ef = embedding_functions.SentenceTransformerEmbeddingFunction(model_name=\"all-mpnet-base-v2\")\n",
    "\n",
    "path='/home/gonza/gonza/Financial_Chatbot_Advisor/chroma_new'\n",
    "chroma = Chroma(path=path)\n",
    "chroma.create_collection(collection='test',embedding_function=sentence_transformer_ef)\n",
    "chroma.add_data(csv='/home/gonza/gonza/Financial_Chatbot_Advisor/git/FinancialAdvisorChatbot/data.csv', rows=210)"
   ]
  },
  {
   "cell_type": "code",
   "execution_count": 23,
   "metadata": {},
   "outputs": [
    {
     "name": "stderr",
     "output_type": "stream",
     "text": [
      "Add of existing embedding ID: 0\n",
      "Add of existing embedding ID: 1\n",
      "Add of existing embedding ID: 2\n",
      "Add of existing embedding ID: 3\n",
      "Add of existing embedding ID: 4\n",
      "Add of existing embedding ID: 5\n",
      "Add of existing embedding ID: 6\n",
      "Add of existing embedding ID: 7\n",
      "Add of existing embedding ID: 8\n",
      "Add of existing embedding ID: 9\n",
      "Add of existing embedding ID: 10\n",
      "Add of existing embedding ID: 11\n",
      "Add of existing embedding ID: 12\n",
      "Add of existing embedding ID: 13\n",
      "Add of existing embedding ID: 14\n",
      "Add of existing embedding ID: 15\n",
      "Add of existing embedding ID: 16\n",
      "Add of existing embedding ID: 17\n",
      "Add of existing embedding ID: 18\n",
      "Add of existing embedding ID: 19\n",
      "Add of existing embedding ID: 20\n",
      "Add of existing embedding ID: 21\n",
      "Add of existing embedding ID: 22\n",
      "Add of existing embedding ID: 23\n",
      "Add of existing embedding ID: 24\n",
      "Add of existing embedding ID: 25\n",
      "Add of existing embedding ID: 26\n",
      "Add of existing embedding ID: 27\n",
      "Add of existing embedding ID: 28\n",
      "Add of existing embedding ID: 29\n",
      "Add of existing embedding ID: 30\n",
      "Add of existing embedding ID: 31\n",
      "Add of existing embedding ID: 32\n",
      "Add of existing embedding ID: 33\n",
      "Add of existing embedding ID: 34\n",
      "Add of existing embedding ID: 35\n",
      "Add of existing embedding ID: 36\n",
      "Add of existing embedding ID: 37\n",
      "Add of existing embedding ID: 38\n",
      "Add of existing embedding ID: 39\n",
      "Add of existing embedding ID: 40\n",
      "Add of existing embedding ID: 41\n",
      "Add of existing embedding ID: 42\n",
      "Add of existing embedding ID: 43\n",
      "Add of existing embedding ID: 44\n",
      "Add of existing embedding ID: 45\n",
      "Add of existing embedding ID: 46\n",
      "Add of existing embedding ID: 47\n",
      "Add of existing embedding ID: 48\n",
      "Add of existing embedding ID: 49\n",
      "Add of existing embedding ID: 50\n",
      "Add of existing embedding ID: 51\n",
      "Add of existing embedding ID: 52\n",
      "Add of existing embedding ID: 53\n",
      "Add of existing embedding ID: 54\n",
      "Add of existing embedding ID: 55\n",
      "Add of existing embedding ID: 56\n",
      "Add of existing embedding ID: 57\n",
      "Add of existing embedding ID: 58\n",
      "Add of existing embedding ID: 59\n",
      "Add of existing embedding ID: 60\n",
      "Add of existing embedding ID: 61\n",
      "Add of existing embedding ID: 62\n",
      "Add of existing embedding ID: 63\n",
      "Add of existing embedding ID: 64\n",
      "Add of existing embedding ID: 65\n",
      "Add of existing embedding ID: 66\n",
      "Add of existing embedding ID: 67\n",
      "Add of existing embedding ID: 68\n",
      "Add of existing embedding ID: 69\n",
      "Add of existing embedding ID: 70\n",
      "Add of existing embedding ID: 71\n",
      "Add of existing embedding ID: 72\n",
      "Add of existing embedding ID: 73\n",
      "Add of existing embedding ID: 74\n",
      "Add of existing embedding ID: 75\n"
     ]
    },
    {
     "name": "stdout",
     "output_type": "stream",
     "text": [
      "If your client is running well then you should see a heartbeat greater than 0:  1689968315634673089\n"
     ]
    },
    {
     "name": "stderr",
     "output_type": "stream",
     "text": [
      "Add of existing embedding ID: 76\n",
      "Add of existing embedding ID: 77\n",
      "Add of existing embedding ID: 78\n",
      "Add of existing embedding ID: 79\n",
      "Add of existing embedding ID: 80\n",
      "Add of existing embedding ID: 81\n",
      "Add of existing embedding ID: 82\n",
      "Add of existing embedding ID: 83\n",
      "Add of existing embedding ID: 84\n",
      "Add of existing embedding ID: 85\n",
      "Add of existing embedding ID: 86\n",
      "Add of existing embedding ID: 87\n",
      "Add of existing embedding ID: 88\n",
      "Add of existing embedding ID: 89\n",
      "Add of existing embedding ID: 90\n",
      "Add of existing embedding ID: 91\n",
      "Add of existing embedding ID: 92\n",
      "Add of existing embedding ID: 93\n",
      "Add of existing embedding ID: 94\n",
      "Add of existing embedding ID: 95\n",
      "Add of existing embedding ID: 96\n",
      "Add of existing embedding ID: 97\n",
      "Add of existing embedding ID: 98\n",
      "Add of existing embedding ID: 99\n",
      "Add of existing embedding ID: 100\n",
      "Add of existing embedding ID: 101\n",
      "Add of existing embedding ID: 102\n",
      "Add of existing embedding ID: 103\n",
      "Add of existing embedding ID: 104\n",
      "Add of existing embedding ID: 105\n",
      "Add of existing embedding ID: 106\n",
      "Add of existing embedding ID: 107\n",
      "Add of existing embedding ID: 108\n",
      "Add of existing embedding ID: 109\n",
      "Add of existing embedding ID: 110\n",
      "Add of existing embedding ID: 111\n",
      "Add of existing embedding ID: 112\n",
      "Add of existing embedding ID: 113\n",
      "Add of existing embedding ID: 114\n",
      "Add of existing embedding ID: 115\n",
      "Add of existing embedding ID: 116\n",
      "Add of existing embedding ID: 117\n",
      "Add of existing embedding ID: 118\n",
      "Add of existing embedding ID: 119\n",
      "Add of existing embedding ID: 120\n",
      "Add of existing embedding ID: 121\n",
      "Add of existing embedding ID: 122\n",
      "Add of existing embedding ID: 123\n",
      "Add of existing embedding ID: 124\n",
      "Add of existing embedding ID: 125\n",
      "Add of existing embedding ID: 126\n",
      "Add of existing embedding ID: 127\n",
      "Add of existing embedding ID: 128\n",
      "Add of existing embedding ID: 129\n",
      "Add of existing embedding ID: 130\n",
      "Add of existing embedding ID: 131\n",
      "Add of existing embedding ID: 132\n",
      "Add of existing embedding ID: 133\n",
      "Add of existing embedding ID: 134\n",
      "Add of existing embedding ID: 135\n",
      "Add of existing embedding ID: 136\n",
      "Add of existing embedding ID: 137\n",
      "Add of existing embedding ID: 138\n",
      "Add of existing embedding ID: 139\n",
      "Add of existing embedding ID: 140\n",
      "Add of existing embedding ID: 141\n",
      "Add of existing embedding ID: 142\n",
      "Add of existing embedding ID: 143\n",
      "Add of existing embedding ID: 144\n",
      "Add of existing embedding ID: 145\n",
      "Add of existing embedding ID: 146\n",
      "Add of existing embedding ID: 147\n",
      "Add of existing embedding ID: 148\n",
      "Add of existing embedding ID: 149\n",
      "Add of existing embedding ID: 150\n",
      "Add of existing embedding ID: 151\n",
      "Add of existing embedding ID: 152\n",
      "Add of existing embedding ID: 153\n",
      "Add of existing embedding ID: 154\n",
      "Add of existing embedding ID: 155\n",
      "Add of existing embedding ID: 156\n",
      "Add of existing embedding ID: 157\n",
      "Add of existing embedding ID: 158\n",
      "Add of existing embedding ID: 159\n",
      "Add of existing embedding ID: 160\n",
      "Add of existing embedding ID: 161\n",
      "Add of existing embedding ID: 162\n",
      "Add of existing embedding ID: 163\n",
      "Add of existing embedding ID: 164\n",
      "Add of existing embedding ID: 165\n",
      "Add of existing embedding ID: 166\n",
      "Add of existing embedding ID: 167\n",
      "Add of existing embedding ID: 168\n",
      "Add of existing embedding ID: 169\n",
      "Add of existing embedding ID: 170\n",
      "Add of existing embedding ID: 171\n",
      "Add of existing embedding ID: 172\n",
      "Add of existing embedding ID: 173\n",
      "Add of existing embedding ID: 174\n",
      "Add of existing embedding ID: 175\n",
      "Add of existing embedding ID: 176\n",
      "Add of existing embedding ID: 177\n",
      "Add of existing embedding ID: 178\n",
      "Add of existing embedding ID: 179\n",
      "Add of existing embedding ID: 180\n",
      "Add of existing embedding ID: 181\n",
      "Add of existing embedding ID: 182\n",
      "Add of existing embedding ID: 183\n",
      "Add of existing embedding ID: 184\n",
      "Add of existing embedding ID: 185\n",
      "Add of existing embedding ID: 186\n",
      "Add of existing embedding ID: 187\n",
      "Add of existing embedding ID: 188\n",
      "Add of existing embedding ID: 189\n",
      "Add of existing embedding ID: 190\n",
      "Add of existing embedding ID: 191\n",
      "Add of existing embedding ID: 192\n",
      "Add of existing embedding ID: 193\n",
      "Add of existing embedding ID: 194\n",
      "Add of existing embedding ID: 195\n",
      "Add of existing embedding ID: 196\n",
      "Add of existing embedding ID: 197\n",
      "Add of existing embedding ID: 198\n",
      "Add of existing embedding ID: 199\n",
      "Add of existing embedding ID: 200\n",
      "Add of existing embedding ID: 201\n",
      "Add of existing embedding ID: 202\n",
      "Add of existing embedding ID: 203\n",
      "Add of existing embedding ID: 204\n",
      "Add of existing embedding ID: 205\n",
      "Add of existing embedding ID: 206\n",
      "Add of existing embedding ID: 207\n",
      "Add of existing embedding ID: 208\n",
      "Add of existing embedding ID: 209\n",
      "Add of existing embedding ID: 0\n",
      "Add of existing embedding ID: 1\n",
      "Add of existing embedding ID: 2\n",
      "Add of existing embedding ID: 3\n",
      "Add of existing embedding ID: 4\n",
      "Add of existing embedding ID: 5\n",
      "Add of existing embedding ID: 6\n",
      "Add of existing embedding ID: 7\n",
      "Add of existing embedding ID: 8\n",
      "Add of existing embedding ID: 9\n",
      "Add of existing embedding ID: 10\n",
      "Add of existing embedding ID: 11\n",
      "Add of existing embedding ID: 12\n",
      "Add of existing embedding ID: 13\n",
      "Add of existing embedding ID: 14\n",
      "Add of existing embedding ID: 15\n",
      "Add of existing embedding ID: 16\n",
      "Add of existing embedding ID: 17\n",
      "Add of existing embedding ID: 18\n",
      "Add of existing embedding ID: 19\n",
      "Add of existing embedding ID: 20\n",
      "Add of existing embedding ID: 21\n",
      "Add of existing embedding ID: 22\n",
      "Add of existing embedding ID: 23\n",
      "Add of existing embedding ID: 24\n",
      "Add of existing embedding ID: 25\n",
      "Add of existing embedding ID: 26\n",
      "Add of existing embedding ID: 27\n",
      "Add of existing embedding ID: 28\n",
      "Add of existing embedding ID: 29\n",
      "Add of existing embedding ID: 30\n",
      "Add of existing embedding ID: 31\n",
      "Add of existing embedding ID: 32\n",
      "Add of existing embedding ID: 33\n",
      "Add of existing embedding ID: 34\n",
      "Add of existing embedding ID: 35\n",
      "Add of existing embedding ID: 36\n",
      "Add of existing embedding ID: 37\n",
      "Add of existing embedding ID: 38\n",
      "Add of existing embedding ID: 39\n",
      "Add of existing embedding ID: 40\n",
      "Add of existing embedding ID: 41\n",
      "Add of existing embedding ID: 42\n",
      "Add of existing embedding ID: 43\n",
      "Add of existing embedding ID: 44\n",
      "Add of existing embedding ID: 45\n",
      "Add of existing embedding ID: 46\n",
      "Add of existing embedding ID: 47\n",
      "Add of existing embedding ID: 48\n",
      "Add of existing embedding ID: 49\n",
      "Add of existing embedding ID: 50\n",
      "Add of existing embedding ID: 51\n",
      "Add of existing embedding ID: 52\n",
      "Add of existing embedding ID: 53\n",
      "Add of existing embedding ID: 54\n",
      "Add of existing embedding ID: 55\n",
      "Add of existing embedding ID: 56\n",
      "Add of existing embedding ID: 57\n",
      "Add of existing embedding ID: 58\n",
      "Add of existing embedding ID: 59\n",
      "Add of existing embedding ID: 60\n",
      "Add of existing embedding ID: 61\n",
      "Add of existing embedding ID: 62\n",
      "Add of existing embedding ID: 63\n",
      "Add of existing embedding ID: 64\n",
      "Add of existing embedding ID: 65\n",
      "Add of existing embedding ID: 66\n",
      "Add of existing embedding ID: 67\n",
      "Add of existing embedding ID: 68\n",
      "Add of existing embedding ID: 69\n",
      "Add of existing embedding ID: 70\n",
      "Add of existing embedding ID: 71\n",
      "Add of existing embedding ID: 72\n",
      "Add of existing embedding ID: 73\n",
      "Add of existing embedding ID: 74\n",
      "Add of existing embedding ID: 75\n",
      "Add of existing embedding ID: 76\n",
      "Add of existing embedding ID: 77\n",
      "Add of existing embedding ID: 78\n",
      "Add of existing embedding ID: 79\n",
      "Add of existing embedding ID: 80\n",
      "Add of existing embedding ID: 81\n",
      "Add of existing embedding ID: 82\n",
      "Add of existing embedding ID: 83\n",
      "Add of existing embedding ID: 84\n",
      "Add of existing embedding ID: 85\n",
      "Add of existing embedding ID: 86\n",
      "Add of existing embedding ID: 87\n",
      "Add of existing embedding ID: 88\n",
      "Add of existing embedding ID: 89\n",
      "Add of existing embedding ID: 90\n",
      "Add of existing embedding ID: 91\n",
      "Add of existing embedding ID: 92\n",
      "Add of existing embedding ID: 93\n",
      "Add of existing embedding ID: 94\n",
      "Add of existing embedding ID: 95\n",
      "Add of existing embedding ID: 96\n",
      "Add of existing embedding ID: 97\n",
      "Add of existing embedding ID: 98\n",
      "Add of existing embedding ID: 99\n",
      "Add of existing embedding ID: 100\n",
      "Add of existing embedding ID: 101\n",
      "Add of existing embedding ID: 102\n",
      "Add of existing embedding ID: 103\n",
      "Add of existing embedding ID: 104\n",
      "Add of existing embedding ID: 105\n",
      "Add of existing embedding ID: 106\n",
      "Add of existing embedding ID: 107\n",
      "Add of existing embedding ID: 108\n",
      "Add of existing embedding ID: 109\n",
      "Add of existing embedding ID: 110\n",
      "Add of existing embedding ID: 111\n",
      "Add of existing embedding ID: 112\n",
      "Add of existing embedding ID: 113\n",
      "Add of existing embedding ID: 114\n",
      "Add of existing embedding ID: 115\n",
      "Add of existing embedding ID: 116\n",
      "Add of existing embedding ID: 117\n",
      "Add of existing embedding ID: 118\n",
      "Add of existing embedding ID: 119\n",
      "Add of existing embedding ID: 120\n",
      "Add of existing embedding ID: 121\n",
      "Add of existing embedding ID: 122\n",
      "Add of existing embedding ID: 123\n",
      "Add of existing embedding ID: 124\n",
      "Add of existing embedding ID: 125\n",
      "Add of existing embedding ID: 126\n",
      "Add of existing embedding ID: 127\n",
      "Add of existing embedding ID: 128\n",
      "Add of existing embedding ID: 129\n",
      "Add of existing embedding ID: 130\n",
      "Add of existing embedding ID: 131\n",
      "Add of existing embedding ID: 132\n",
      "Add of existing embedding ID: 133\n",
      "Add of existing embedding ID: 134\n",
      "Add of existing embedding ID: 135\n",
      "Add of existing embedding ID: 136\n",
      "Add of existing embedding ID: 137\n",
      "Add of existing embedding ID: 138\n",
      "Add of existing embedding ID: 139\n",
      "Add of existing embedding ID: 140\n",
      "Add of existing embedding ID: 141\n",
      "Add of existing embedding ID: 142\n",
      "Add of existing embedding ID: 143\n",
      "Add of existing embedding ID: 144\n",
      "Add of existing embedding ID: 145\n",
      "Add of existing embedding ID: 146\n",
      "Add of existing embedding ID: 147\n",
      "Add of existing embedding ID: 148\n",
      "Add of existing embedding ID: 149\n",
      "Add of existing embedding ID: 150\n",
      "Add of existing embedding ID: 151\n",
      "Add of existing embedding ID: 152\n",
      "Add of existing embedding ID: 153\n",
      "Add of existing embedding ID: 154\n",
      "Add of existing embedding ID: 155\n",
      "Add of existing embedding ID: 156\n",
      "Add of existing embedding ID: 157\n",
      "Add of existing embedding ID: 158\n",
      "Add of existing embedding ID: 159\n",
      "Add of existing embedding ID: 160\n",
      "Add of existing embedding ID: 161\n",
      "Add of existing embedding ID: 162\n",
      "Add of existing embedding ID: 163\n",
      "Add of existing embedding ID: 164\n",
      "Add of existing embedding ID: 165\n",
      "Add of existing embedding ID: 166\n",
      "Add of existing embedding ID: 167\n",
      "Add of existing embedding ID: 168\n",
      "Add of existing embedding ID: 169\n",
      "Add of existing embedding ID: 170\n",
      "Add of existing embedding ID: 171\n",
      "Add of existing embedding ID: 172\n",
      "Add of existing embedding ID: 173\n",
      "Add of existing embedding ID: 174\n",
      "Add of existing embedding ID: 175\n",
      "Add of existing embedding ID: 176\n",
      "Add of existing embedding ID: 177\n",
      "Add of existing embedding ID: 178\n",
      "Add of existing embedding ID: 179\n",
      "Add of existing embedding ID: 180\n",
      "Add of existing embedding ID: 181\n",
      "Add of existing embedding ID: 182\n",
      "Add of existing embedding ID: 183\n",
      "Add of existing embedding ID: 184\n",
      "Add of existing embedding ID: 185\n",
      "Add of existing embedding ID: 186\n",
      "Add of existing embedding ID: 187\n",
      "Add of existing embedding ID: 188\n",
      "Add of existing embedding ID: 189\n",
      "Add of existing embedding ID: 190\n",
      "Add of existing embedding ID: 191\n",
      "Add of existing embedding ID: 192\n",
      "Add of existing embedding ID: 193\n",
      "Add of existing embedding ID: 194\n",
      "Add of existing embedding ID: 195\n",
      "Add of existing embedding ID: 196\n",
      "Add of existing embedding ID: 197\n",
      "Add of existing embedding ID: 198\n",
      "Add of existing embedding ID: 199\n",
      "Add of existing embedding ID: 200\n",
      "Add of existing embedding ID: 201\n",
      "Add of existing embedding ID: 202\n",
      "Add of existing embedding ID: 203\n",
      "Add of existing embedding ID: 204\n",
      "Add of existing embedding ID: 205\n",
      "Add of existing embedding ID: 206\n",
      "Add of existing embedding ID: 207\n",
      "Add of existing embedding ID: 208\n",
      "Add of existing embedding ID: 209\n"
     ]
    }
   ],
   "source": [
    "from chroma import chroma\n",
    "from chromadb.utils import embedding_functions\n",
    "\n",
    "path='/home/gonza/gonza/Financial_Chatbot_Advisor/chroma_new'\n",
    "chroma = chroma(path=path)\n",
    "\n",
    "embedding_function = embedding_functions.SentenceTransformerEmbeddingFunction(model_name=\"all-mpnet-base-v2\")\n",
    "collection='test'\n",
    "chroma.collection(collection, embedding_function)\n",
    "\n",
    "query=['What are the terms of the license, supply, and distribution agreement with Teva for the auto injector product containing sumatriptan?']\n",
    "include = [\"embeddings\", \"metadatas\", \"documents\", \"distances\"]\n",
    "n=3\n",
    "docs=chroma.retriever(query=query, n_results=n, include=include)"
   ]
  },
  {
   "cell_type": "code",
   "execution_count": 2,
   "metadata": {},
   "outputs": [
    {
     "data": {
      "text/plain": [
       "dict"
      ]
     },
     "execution_count": 2,
     "metadata": {},
     "output_type": "execute_result"
    }
   ],
   "source": [
    "type(docs)"
   ]
  },
  {
   "cell_type": "code",
   "execution_count": 4,
   "metadata": {},
   "outputs": [
    {
     "data": {
      "text/plain": [
       "dict_keys(['ids', 'distances', 'metadatas', 'embeddings', 'documents'])"
      ]
     },
     "execution_count": 4,
     "metadata": {},
     "output_type": "execute_result"
    }
   ],
   "source": [
    "docs.keys()"
   ]
  },
  {
   "cell_type": "code",
   "execution_count": 14,
   "metadata": {},
   "outputs": [
    {
     "data": {
      "text/plain": [
       "1"
      ]
     },
     "execution_count": 14,
     "metadata": {},
     "output_type": "execute_result"
    }
   ],
   "source": [
    "len(docs['documents'])"
   ]
  },
  {
   "cell_type": "code",
   "execution_count": 24,
   "metadata": {},
   "outputs": [
    {
     "data": {
      "text/plain": [
       "['the company received from leo a non-refundable upfront payment of $5.0 million, will receive a milestone payment of $5.0 million upon launch of the product and meeting other performance obligations and will receive a milestone payment of $10.0 million upon realizing a defined level of net sales in a calendar year. the company will pay leo a percentage of net sales generated in dermatology and will record the payments to leo as sales and marketing expense. the company identified and evaluated a number of deliverables in the agreement and concluded that none of the deliverables have value on a stand-alone basis. as a result, these deliverables do not qualify for treatment as separate units of accounting. accordingly, the deliverables have been accounted for as a single unit of accounting and each of the payments will be allocated to these deliverables and will be recognized as revenue over the 35 month estimated life of the agreement. the company recognized revenue of approximately $571,000 in the year ended december 31, 2013, and recorded the $4,429,000 remaining portion of the upfront payment as deferred revenue at december 31, 2013. teva license development and supply agreements in november 2012, the company entered into a license, supply and distribution agreement with teva for an auto injector product containing sumatriptan for the treatment of migraines. teva will manufacture and supply sumatriptan in a prefilled syringe. the company will manufacture the device, assemble the device and prefilled syringe and supply the final product to teva for distribution. teva will distribute the product in the united states. teva also received an option for rights in other territories. under the agreement, the company received an upfront payment, which was deferred, and will receive a milestone payment upon commercial launch. in addition, net profits will be split 50/50 between the company and teva. the term of the agreement is seven years from commercial launch, with automatic one year renewals. in december 2007, the company entered into a license, development and supply agreement with teva under which the company will develop and supply a disposable pen injector for use with two undisclosed patient- administered pharmaceutical products. under the agreement, an upfront payment, development milestones, and royalties on tevas product sales, as well as a purchase price for each device sold are to be received by the company under certain circumstances. based on an analysis under accounting literature applicable at the time of the agreement, the entire arrangement was considered a single unit of accounting. therefore, payments received and development costs incurred were deferred and were to be recognized from the start of manufacturing through the end of the initial contract period. in january 2011, this license, development and supply agreement was amended wherein teva pays for all development work and tooling associated with device development. additionally, we are now developing two different disposable pens, one for each product. as further explained in note 9 to the consolidated financial statements, the company determined that the changes to the agreement as a result of the amendment are a material modification to the agreement and the accounting for the revenue and costs under this agreement was changed. this agreement will continue until the later of december 2017 or the expiration date of the last to expire patent covering the device or product that is filed no later than 12 months after fda approval, and will be automatically renewed for successive periods of two years each. in september 2006, the company entered into a supply agreement with teva. pursuant to the agreement, teva is obligated to purchase all of its needle-free delivery device requirements from antares for hgh to be marketed in the united states. antares was entitled to an upfront cash payment, milestone fees and royalty payments on tevas net sales, as well as a purchase price for each device sold. the upfront payment was recognized as revenue over the development period. the milestone fees and royalties will be recognized as revenue when earned. in 2009, teva launched the companys tjet needle-free device with their hgh tev-tropin. in 2010, the company received a milestone payment from teva in connection with this agreement. the original term of this agreement extended through september 2013. in may 2013 the agreement was amended to provide for one year automatic renewals unless terminated by either party six months ahead of the expiring term. in july 2006, the company entered into an exclusive license development and supply agreement with teva. pursuant to the agreement, teva is obligated to purchase all of its delivery device requirements from antares for an auto injector product containing epinephrine to be marketed in the united states and canada. antares was entitled to an upfront cash payment, milestone fees, a negotiated purchase price for each device sold, as well as royalties on sales of their product. this agreement will continue until the later of july 2016 or the expiration date of the last to expire patent covering the device or product that is filed no later than 12 months after fda approval. on april 26, 2012, the company announced that meridian medical technologies, a pfizer subsidiary, entered into a settlement agreement with teva that will resolve pending patent litigation related to its abbreviated new drug application (anda) for a generic epinephrine auto-injector. according to the terms of the settlement, teva may launch a generic epinephrine auto-injector covered by its anda on june 22, 2015 or earlier under certain circumstances, subject to receipt of approval from the u.s. food and drug administration. additional terms of the agreement are confidential. under a separate agreement, teva has agreed to provide the company with device orders of an undisclosed amount in the years 2013 and 2014, to make a milestone payment to the company upon fda approval of epinephrine auto-injector, and to assume all litigation costs related to the patent litigation between teva and meridian medical.',\n",
       " 'under the agreement, the company received an upfront payment and will receive a milestone payment upon commercial launch. in addition, net profits will be split 50/50 between the company and teva. the term of the agreement is seven years from commercial launch, with automatic one year renewals. in december 2007, the company entered into a license, development and supply agreement with teva under which the company will develop and supply a disposable pen injector for use with two undisclosed patient- administered pharmaceutical products. under the agreement, an upfront payment, development milestones, and royalties on tevas product sales, as well as a purchase price for each device sold are to be received by the company under certain circumstances. based on an analysis under accounting literature applicable at the time of the agreement, the entire arrangement was considered a single unit of accounting. therefore, payments received and development costs incurred were deferred and were to be recognized from the start of manufacturing through the end of the initial contract period. in january 2011, this license, development and supply agreement was amended wherein teva pays for all development work and tooling associated with device development. additionally, we are now developing two different disposable pens, one for each product. as further explained in note 9 to the consolidated financial statements, the company determined that the changes to the agreement as a result of the amendment are a material modification to the agreement and the accounting for the revenue and costs under this agreement was changed. this agreement will continue until the later of december 2017 or the expiration date of the last to expire patent covering the device or product that is filed no later than 12 months after fda approval, and will be automatically renewed for successive periods of two years each. in september 2006, the company entered into a supply agreement with teva. pursuant to the agreement, teva is obligated to purchase all of its needle-free delivery device requirements from antares for hgh to be marketed in the united states. antares was entitled to an upfront cash payment, milestone fees and royalty payments on tevas net sales, as well as a purchase price for each device sold. the upfront payment was recognized as revenue over the development period. the milestone fees and royalties will be recognized as revenue when earned. in 2009, teva launched the companys tjet needle-free device with their hgh tev-tropin. in 2010, the company received a milestone payment from teva in connection with this agreement. the original term of this agreement extended through september 2013, but has been automatically renewed for two years and will continue to automatically renew for successive periods of two years each unless terminated by either party. in july 2006, the company entered into an exclusive license development and supply agreement with teva. pursuant to the agreement, teva is obligated to purchase all of its delivery device requirements from antares for an auto injector product containing epinephrine to be marketed in the united states and canada. antares was entitled to an upfront cash payment, milestone fees, a negotiated purchase price for each device sold, as well as royalties on sales of their product. this agreement will continue until the later of july 2016 or the expiration date of the last to expire patent covering the device or product that is filed no later than 12 months after fda approval, and will be automatically renewed for successive periods of two years each. on april 26, 2012, the company announced that meridian medical technologies, a pfizer subsidiary, entered into a settlement agreement with teva that will resolve pending patent litigation related to its abbreviated new drug application (anda) for a generic epinephrine auto-injector. according to the terms of the settlement, teva may launch a generic epinephrine auto-injector covered by its anda on june 22, 2015 or earlier under certain circumstances, subject to receipt of approval from the u.s. food and drug administration. additional terms of the agreement are confidential. under a separate agreement, teva has agreed to provide the company with device orders of an undisclosed amount in the years 2013 and 2014, to make a milestone payment to the company upon fda approval of epinephrine auto-injector, and to assume all litigation costs related to the patent litigation between teva and meridian medical. ferring agreements on november 6, 2009, the company entered into an exclusive license agreement with ferring, under which the company licensed certain of its patents and agreed to transfer know-how for its transdermal gel technology for certain pharmaceutical products. this agreement had no impact on the companys existing licenses, the transdermal clinical pipeline, or marketed products, including gelnique 3%tm, nestrageltm (nestorone), and elestrin. also on november 6, 2009, in tandem with the execution of the exclusive license agreement, the company entered into an asset purchase agreement (the purchase agreement) with ferring. pursuant to the terms and conditions of the purchase agreement, ferring purchased from the company all of the assets, including equipment, fixtures, fittings and inventory, located at the companys research and development facility located in allschwil, switzerland (the facility). further pursuant to the terms and conditions of the purchase agreement, ferring assumed the contractual obligations related to the facility, including the real property lease for the facility, and continued to employ the employees working at the facility. the company also entered into a consultancy services agreement with ferring for a period of 12 months, under which the company provided services in connection with development of certain pharmaceutical products under the exclusive license agreement. under these agreements the company received upfront license fees, payments for assets and payments for services rendered under the consultancy agreement. in addition, the company will receive milestone payments as certain defined milestones are achieved. the agreement is effective until the last to expire patent applicable under the agreement which currently is 2028. although there were three separate agreements with ferring, they were evaluated as a single arrangement for purposes of applying the applicable accounting standard.',\n",
       " 'we will receive undisclosed upfront payments, development milestones and sales based milestones, as well as royalties on net sales for three years post launch in the u.s. in january 2012, we entered into a licensing agreement with daewoong pharmaceuticals under which daewoong will commercialize our oxybutynin gel 3% product in south korea, once approved. the agreement terms include an upfront payment, development and sales-based milestone payments and escalating royalties based on product sales in south korea. the term of the agreement ends on the later of fifteen years following launch of the product or the expiration date of the last to expire patent. in november 2012, we entered into a license, supply and distribution agreement with teva for an auto injector product containing sumatriptan for the treatment of migraines. we will manufacture the device and do final assembly and packaging of the final product, and teva will manufacture and supply the drug and will distribute the product in the united states. teva also received an option for rights in other territories. under the agreement, we received an upfront payment and will receive a milestone payment upon commercial launch. in addition, net profits will be split 50/50 between us and teva. the term of the agreement is seven years from commercial launch, with automatic one year renewals unless terminated by either party after the initial term. in november 2013, we entered into a promotion and license agreement with leo pharma. under this agreement we granted leo pharma the exclusive right to promote otrexuptm to dermatologists for symptomatic control of severe recalcitrant psoriasis in adults in the u.s. leo pharma is responsible for promotion and marketing activities in dermatology and we are responsible for the supply of otrexuptm product and samples. we received from leo pharma a non-refundable upfront payment of $5.0 million and received a second milestone payment of $5.0 million upon launch of the product and meeting other performance obligations in march 2014. additionally, we may receive a $10.0 million milestone payment upon realizing a defined level of net sales in a calendar year. the company will pay leo pharma a percentage of net sales generated in dermatology as evidenced by psoriasis prescriptions. competition competition in the methotrexate market includes tablets and parenteral forms that are currently marketed in the u.s. by several generic manufacturers, including teva, mylan, roxane, bedford labs, app pharmaceuticals, and hospira. in several european countries, canada, and south korea, medac international or its licensees market methotrexate in prefilled syringes (metoject) and in 2013 launched an auto injector with methotrexate in those territories. on january 27, 2014, medac pharma inc. (medac pharma), a privately held pharmaceutical company, announced fda acceptance of a new drug application for their lead product candidate mpi-2505, a subcutaneous injectable methotrexate in a ready-to-use injection device for potential use in the treatment of rheumatoid arthritis, poly-articular course juvenile arthritis and psoriasis. if approved, medac pharma is targeting the potential commercialization of this product candidate in late 2014. other commonly used pharmaceutical treatments for rheumatoid arthritis include analgesics, non-steroidal anti-inflammatory drugs (nsaids), corticosteroids, so-called disease modifying anti-rheumatic drugs (dmards) and biologic response modifiers. in addition to methotrexate, the dmards include azathioprine (imuran), cyclosporine (neoral), hydroxychloroquine (plaquenil), auranofin (ridura), leflunomide (arava) and sulfasalazine (azulfidine). the biologic response modifiers include etanercept (enbrel), adalimumab (humira), golimumab (simponi), tocilizumab (actemra), certolizumab (cimzia), infliximab (remicaid), abatacept (orencia), and rituximab (rituxan). they are often prescribed in combination with dmards such as methotrexate. because biologics work by suppressing the immune system, they could be problematic for patients who are potentially prone to frequent infection. competition in the u.s. testosterone replacement market includes abbvies androgel and androgel 1.62%, lillys axiron, endo pharmaceuticals fortesta and delatestryl, pfizers depo-testosterone, actavis androderm, auxilliums testim, actients striant and testopel and several generic testosterone in oil products sold by actavis, sandoz, mylan, bedford labs, teva and others. in addition, at least two additional treatments for low testosterone levels are in development. clarus therapeutics is developing an oral formulation of testosterone undecanoate, clr-610, announcing positive phase iii clinical study results in september 2012. trimel pharmaceuticals is developing an intra-nasal testosterone formulation, compleotrttm, submitting an nda with the fda in april 2013 that now has a pdufa date recently extended to may 28, 2014. endo pharmaceuticals has recently received u.s. fda approval of testosterone undecanoate injection, aveedtm. endo pharmaceuticals licensed testosterone undecanoate injection from bayer, which markets the product as nebido in europe and elsewhere. endo pharmaceuticals has not yet launched this product. competition in the u.s. oab market includes pfizers detrol la (tolterodine extended release capsules), janssen pharmaceuticals ditropan xl (oxybutynin extended release tablets) and generic forms of oxybutynin tablets, gsk/astellas vesicare (sofenicin tablets) (17%), warner chilcotts enablex (darifenacin extended release tablets), pfizers toviaz (fesoteridine tablets), allergans sanctura xr (tropsium extended release capsules), astellas pharmas myrbetriq (mirabegron extended release tablets), actavis transdermal oxybutynin patch oxytrol and allergans botox (onabotulinumtoxina). competition in the hgh market consists of products from several manufacturers, including humatrope (lilly), norditropin (novonordisk), genotropin (pfizer), nutropin (roche/genentech), omnitrope (sandoz), serostim (emd serono), saizen (emd serono), zorptive (emd serono), and tev-tropin (teva). while all hgh products currently available in the united states are exclusively produced from recombinant technology in the form of somatropin, individual hgh products vary in the indications for which they are approved, the formulations (ready- to-use liquids and lyophyllized powder for reconstitution), strengths, and drug delivery systems (e.g., vials for use with conventional needle and syringe, pre-filled syringes, pens, needle-free auto-injectors) in which they are available. approved indications include growth hormone deficiency in children, turners syndrome, prader-willi syndrome, noonan syndrome, small for gestational age (sga), growth delay in children with chronic renal failure and shox (short stature homeobox-containing gene) gene deletion. approved indications in adults includes growth hormone deficiency in adults, continuation of therapy from growth hormone deficiency in childhood, treatment of aids wasting, and treatment of short bowel syndrome.']"
      ]
     },
     "execution_count": 24,
     "metadata": {},
     "output_type": "execute_result"
    }
   ],
   "source": [
    "docs['documents'][0]"
   ]
  },
  {
   "cell_type": "code",
   "execution_count": 27,
   "metadata": {},
   "outputs": [
    {
     "data": {
      "text/plain": [
       "[[0.4198697805404663, 0.5940926671028137, 0.6200776100158691]]"
      ]
     },
     "execution_count": 27,
     "metadata": {},
     "output_type": "execute_result"
    }
   ],
   "source": [
    "docs['distances']"
   ]
  },
  {
   "cell_type": "code",
   "execution_count": 28,
   "metadata": {},
   "outputs": [],
   "source": [
    "query=['Has the company reported any net profits from the Teva licensing agreement for the auto injector product containing sumatriptan?']\n",
    "include = [\"embeddings\", \"metadatas\", \"documents\", \"distances\"]\n",
    "n=3\n",
    "docs=chroma.retriever(query=query, n_results=n, include=include)"
   ]
  },
  {
   "cell_type": "code",
   "execution_count": 30,
   "metadata": {},
   "outputs": [
    {
     "data": {
      "text/plain": [
       "[['the company received from leo a non-refundable upfront payment of $5.0 million, will receive a milestone payment of $5.0 million upon launch of the product and meeting other performance obligations and will receive a milestone payment of $10.0 million upon realizing a defined level of net sales in a calendar year. the company will pay leo a percentage of net sales generated in dermatology and will record the payments to leo as sales and marketing expense. the company identified and evaluated a number of deliverables in the agreement and concluded that none of the deliverables have value on a stand-alone basis. as a result, these deliverables do not qualify for treatment as separate units of accounting. accordingly, the deliverables have been accounted for as a single unit of accounting and each of the payments will be allocated to these deliverables and will be recognized as revenue over the 35 month estimated life of the agreement. the company recognized revenue of approximately $571,000 in the year ended december 31, 2013, and recorded the $4,429,000 remaining portion of the upfront payment as deferred revenue at december 31, 2013. teva license development and supply agreements in november 2012, the company entered into a license, supply and distribution agreement with teva for an auto injector product containing sumatriptan for the treatment of migraines. teva will manufacture and supply sumatriptan in a prefilled syringe. the company will manufacture the device, assemble the device and prefilled syringe and supply the final product to teva for distribution. teva will distribute the product in the united states. teva also received an option for rights in other territories. under the agreement, the company received an upfront payment, which was deferred, and will receive a milestone payment upon commercial launch. in addition, net profits will be split 50/50 between the company and teva. the term of the agreement is seven years from commercial launch, with automatic one year renewals. in december 2007, the company entered into a license, development and supply agreement with teva under which the company will develop and supply a disposable pen injector for use with two undisclosed patient- administered pharmaceutical products. under the agreement, an upfront payment, development milestones, and royalties on tevas product sales, as well as a purchase price for each device sold are to be received by the company under certain circumstances. based on an analysis under accounting literature applicable at the time of the agreement, the entire arrangement was considered a single unit of accounting. therefore, payments received and development costs incurred were deferred and were to be recognized from the start of manufacturing through the end of the initial contract period. in january 2011, this license, development and supply agreement was amended wherein teva pays for all development work and tooling associated with device development. additionally, we are now developing two different disposable pens, one for each product. as further explained in note 9 to the consolidated financial statements, the company determined that the changes to the agreement as a result of the amendment are a material modification to the agreement and the accounting for the revenue and costs under this agreement was changed. this agreement will continue until the later of december 2017 or the expiration date of the last to expire patent covering the device or product that is filed no later than 12 months after fda approval, and will be automatically renewed for successive periods of two years each. in september 2006, the company entered into a supply agreement with teva. pursuant to the agreement, teva is obligated to purchase all of its needle-free delivery device requirements from antares for hgh to be marketed in the united states. antares was entitled to an upfront cash payment, milestone fees and royalty payments on tevas net sales, as well as a purchase price for each device sold. the upfront payment was recognized as revenue over the development period. the milestone fees and royalties will be recognized as revenue when earned. in 2009, teva launched the companys tjet needle-free device with their hgh tev-tropin. in 2010, the company received a milestone payment from teva in connection with this agreement. the original term of this agreement extended through september 2013. in may 2013 the agreement was amended to provide for one year automatic renewals unless terminated by either party six months ahead of the expiring term. in july 2006, the company entered into an exclusive license development and supply agreement with teva. pursuant to the agreement, teva is obligated to purchase all of its delivery device requirements from antares for an auto injector product containing epinephrine to be marketed in the united states and canada. antares was entitled to an upfront cash payment, milestone fees, a negotiated purchase price for each device sold, as well as royalties on sales of their product. this agreement will continue until the later of july 2016 or the expiration date of the last to expire patent covering the device or product that is filed no later than 12 months after fda approval. on april 26, 2012, the company announced that meridian medical technologies, a pfizer subsidiary, entered into a settlement agreement with teva that will resolve pending patent litigation related to its abbreviated new drug application (anda) for a generic epinephrine auto-injector. according to the terms of the settlement, teva may launch a generic epinephrine auto-injector covered by its anda on june 22, 2015 or earlier under certain circumstances, subject to receipt of approval from the u.s. food and drug administration. additional terms of the agreement are confidential. under a separate agreement, teva has agreed to provide the company with device orders of an undisclosed amount in the years 2013 and 2014, to make a milestone payment to the company upon fda approval of epinephrine auto-injector, and to assume all litigation costs related to the patent litigation between teva and meridian medical.',\n",
       "  'teva accounted for 66%, 33% and 50% of our worldwide revenues in 2013, 2012 and 2011, respectively, ferring accounted for 19%, 22% and 35% of our worldwide revenues in 2013, 2012 and 2011, respectively, and actavis accounted for 7% and 30% of our worldwide revenues in 2013 and 2012, respectively. revenue from teva and ferring resulted from sales of injection devices and disposable components for their hgh formulations, and related royalties. revenue from teva also included development and product revenue related to license agreements with teva for our vibex system and for our pen injector device. revenue from actavis in 2013 resulted from gelnique 3% product sales and royalties, and in 2012 resulted from gelnique 3% product sales, manufacturing start-up and other development activities, royalties and a milestone payment that was recognized in 2012. product sales to actavis ended in the first quarter of 2013, as actavis assumed all manufacturing of gelnique 3% in 2013 as contracted. see results of operations revenues in part ii, item 7 managements discussion and analysis of financial condition and results of operations for a discussion of our products and services revenues and note 10 to the consolidated financial statements for revenues by geographic area. collaborative arrangements and license agreements the following table describes existing pharmaceutical and device relationships and license agreements: partner drug market segment product ferring hgh (zomacton) growth retardation (u.s., europe, asia & pacific) needle free zomajet 2 vision ferring hgh (zomacton) (10 mg formulation) growth retardation (u.s., europe, asia & pacific) needle free zomajet vision x teva hgh (tev-tropin) 5mg growth retardation (united states) needle free tjet jcr hgh growth retardation (japan) needle free twin-jector ez ii teva epinephrine anaphylaxis (u.s. and canada) vibex auto injector teva sumatriptan migraines (u.s. and canada) vibex auto injector teva undisclosed undisclosed (north america, europe & others) pen injector teva undisclosed undisclosed (north america, europe & others) pen injector actavis oxybutynin u.s. and canada gelnique 3% daewoong oxybutynin south korea oxybutynin gel 3% meda estradiol hormone replacement therapy (north america, other countries) elestrin gel pfizer undisclosed consumer health undisclosed population council nestorone/estradiol contraception (worldwide) nestrageltm ferring undisclosed undisclosed (worldwide) transdermal gel leo pharma methotrexate dermatology (u.s.) otrexuptm the table above summarizes agreements under which our partners are selling products, conducting clinical evaluation, and performing development of our products. for competitive reasons, our partners may not divulge their name, the product name or the exact stage of clinical development. in june 2000, we granted an exclusive license to ani to develop and commercialize four of our gel technology products for use in hormone replacement therapy in north america and other countries. ani paid us an upfront payment upon execution of the agreement and is also required to make royalty payments once commercial sales of the products have begun. the royalty payments are based on a percentage of sales of the products and must be paid for a period of 10 years following the first commercial sale of the products, or when the last patent for the products expires, whichever is later. the agreement also provides for milestone payments to us upon the occurrence of certain events related to regulatory filings and approvals. in november 2006, ani entered into a sublicense and marketing agreement with bradley pharmaceuticals, inc. (bradley) for elestrin. in december 2006, the fda approved elestrin for marketing in the united states. bradley was acquired by nycomed inc. in february 2008 and returned elestrin to ani. in december 2008, elestrin was sublicensed to azur and subsequently relaunched in 2009. in january 2012, azur was acquired by jazz. in october 2012, jazz womens health business, including elestrin, was acquired by meda. we receive royalties on sales of elestrin as well as potential sales-based milestone payments. currently we expect that elestrin will be the only product developed under this license agreement. in january 2003, we entered into a revised license agreement with ferring, under which we licensed certain of our intellectual property and extended the territories available to ferring for use of certain of our reusable needle- free injection devices to include all countries and territories in the world except asia/pacific. specifically, we granted to ferring an exclusive, royalty-bearing license, within a prescribed manufacturing territory, to utilize certain of our reusable needle-free injector devices for the field of hgh until the expiration of the last to expire of the patents in any country in the territory. we granted to ferring similar non-exclusive rights outside of the prescribed manufacturing territory. in 2007, we amended this agreement providing for non-exclusive rights in asia along with other changes to financial terms of the agreement. we receive a purchase price and a royalty for each device sold to ferring and a royalty on their hgh sales if we meet certain product quality metrics. we have an agreement with jcr through 2014 under which they will continue to market our needle free injector in japan for use with their hgh product growject. we receive a negotiated purchase price for each device sold, as well as royalties on jcrs net sales of hgh. in july 2006, we entered into an exclusive license development and supply agreement with teva. pursuant to the agreement; teva is obligated to purchase all of its delivery device requirements from us for an epinephrine auto injector product to be marketed in the united states and canada. we received an upfront cash payment, and will receive a negotiated purchase price for each device sold, as well as royalties on sales of their product. this agreement has been amended numerous times and provides for payment of capital equipment and other development work that was outside the scope of the original agreement. the agreement will continue until the later of july 2016 or the expiration of the last to expire patent that is filed no later than 12 months after fda approval.',\n",
       "  'ferring purchased the u.s. rights to tev-tropin from teva in the fourth quarter of 2014. we do not know when sales of tev-tropin 5 mg will resume. tev-tropin 10 mg is pending fda approval. we do not control our partners inventory levels of our hgh injectors or disposable components and this can cause significant fluctuations in product sales. auto injector and pen injector devices revenues in 2014, 2013 and 2012 included $927,250, $450,275 and $310,720, respectively, of sales of pre- commercial pen injector devices to teva for use with exenatide and an undisclosed product. revenues in 2014 and 2013 included $399,566 and $6,201,797, respectively, of sales to teva of our vibex auto injector for tevas generic epinephrine auto injector product. we anticipate shipping additional auto injectors to teva for their generic epinephrine product beginning in the first quarter of 2015. in addition, product revenue in 2014 included $150,000 of pre-commercial auto injector devices to another customer and 2013 included $300,000 of revenue that had previously been deferred. other product sales product sales in 2013 and 2012 included $509,868 and $3,099,182, respectively, of sales of our topical oxybutynin gel 3% product to actavis in connection with their marketing of gelnique 3%. product sales to actavis ended after the first quarter of 2013, as actavis assumed all manufacturing of gelnique 3% per our contract with actavis. development revenue development revenues typically represent amounts earned under arrangements with partners in which we develop new products on their behalf. frequently, we receive payments from our partners that are initially deferred and recognized as revenue over a development period or upon completion of defined deliverables. development respectively, related to the teva auto injector and pen injector programs. the revenue in 2012 also included $2,764,234 recognized under our license agreement with actavis, $750,000 earned when pfizer achieved a development milestone related to its undisclosed consumer healthcare product, and amounts earned under various other agreements. licensing revenue licensing revenues represent the amounts recognized from up-front or milestone payments received from partners that are initially deferred. licensing revenue was $3,708,938, $849,185 and $2,141,309 for the years ended december 31, 2014, 2013 and 2012, respectively. the licensing revenue in 2014 and 2013 was primarily due to revenue recognized in connection with our license and promotion agreement with leo pharma executed in november of 2013, which is being recognized over a 35 month period. the licensing revenue in 2012 was primarily due to an upfront license fee received in connection with our licensing agreement with daewoong signed in january of 2012 and revenue recognized in connection with our license agreement with actavis. the licensing revenue in each year also included revenue recognized that was previously deferred in connection with license agreements with teva, ferring and other customers. royalties royalty revenue was $2,351,071, $4,671,711 and $3,874,284 for the years ended december 31, 2014, 2013 and 2012, respectively. we receive royalties from teva and ferring related to needle-free injector device sales and/or hgh sales, from meda pharma on sales of elestrin and from actavis on sales of gelnique 3%. in 2014, 2013 and 2012 our royalties related to needle-free injector device sales and/or hgh sales accounted for approximately 55%, 66% and 71%, respectively, of our overall royalty revenue. the decrease in 2014 compared to 2013 was primarily the result of receiving no royalties from teva after the first quarter of 2014. our royalties from teva are based on tevas sales of their hgh drug, tev-tropin. teva initiated a recall of the drug product, tev-tropin (not the device which we supply), at the end of april and had halted sales of the drug earlier in the year. we do not know when sales of tev-tropin will resume. the increase in royalties in 2013 was spread relatively evenly among each of our three products. cost of revenues and gross margins the cost of product sales includes product acquisition costs from third-party manufacturers and internal manufacturing overhead expenses. cost of product sales were $9,359,457, $6,990,186 and $6,116,726 for the years ended december 31, 2014, 2013 and 2012, respectively, resulting in product gross margins of 29%, 36% and 33%, respectively. the product gross margins for 2014 were reduced as a result of increases to the reserve for potential excess, dated or obsolete otrexuptm inventories of $3,550,000. the slight gross margin increase in 2013 was due to the significant reduction in sales of our topical oxybutynin gel 3% product to actavis, which was sold at a lower gross margin than is realized on injector related product sales. this gross margin increase was partially offset by the gross margin impact of the increase in initial sales to teva of pre-launch quantities of our vibex auto injector for tevas generic epinephrine auto injector product, which was sold at a lower gross margin than our other injector related products but at a slightly higher gross margin than our oxybutynin gel 3% product. the cost of development revenue consists primarily of direct external costs, some of which may have been previously incurred and deferred. cost of development revenue was $1,877,238, $2,207,044 and $3,403,746 for the $2,760,000 of development costs were recognized in 2014, 2013 and 2012, respectively, in connection with revenue recognized related to auto injector and pen injector development programs with teva. in 2012, development costs of approximately $589,000 were related to certain manufacturing readiness activities under the actavis license agreement. research and development research and development expenses consist of external costs for studies and analysis activities, design work and prototype development, fda fees, and salaries and overhead costs. research and development expenses were $18,638,016, $15,263,371 and $14,921,552 for the years ended december 31, 2014, 2013 and 2012, respectively. the expenses in 2014 include fda user fees totaling approximately $1,250,000 recorded in the fourth quarter, which includes an invoice received in december 2014 from the fda for $970,840 related to the twelve month period ended september 30, 2014 for which approximately $243,000 should have been recorded for the year ended december 31, 2013.']]"
      ]
     },
     "execution_count": 30,
     "metadata": {},
     "output_type": "execute_result"
    }
   ],
   "source": [
    "docs['documents']"
   ]
  },
  {
   "cell_type": "code",
   "execution_count": 31,
   "metadata": {},
   "outputs": [
    {
     "data": {
      "text/plain": [
       "[[0.5399226546287537, 0.6108976602554321, 0.671751856803894]]"
      ]
     },
     "execution_count": 31,
     "metadata": {},
     "output_type": "execute_result"
    }
   ],
   "source": [
    "docs['distances']"
   ]
  },
  {
   "cell_type": "code",
   "execution_count": 34,
   "metadata": {},
   "outputs": [
    {
     "data": {
      "text/plain": [
       "[[{'_split_id': 63,\n",
       "   '_split_overlap': \"[{'doc_id': '207fbadb71c4b89e72722633c396bd9a', 'range': (0, 1380)}, {'doc_id': '348aa4ae9fa25abf7398e25236b32071', 'range': (4909, 6185)}]\",\n",
       "   'exchange': 'AMEX',\n",
       "   'name': 'AMEX_ATRS_2013.pdf',\n",
       "   'symbol': 'ATRS',\n",
       "   'year': 2013},\n",
       "  {'_split_id': 16,\n",
       "   '_split_overlap': \"[{'doc_id': 'aa4b0cd06e708c9ab2768e77c95c99a7', 'range': (0, 1284)}, {'doc_id': 'aa5026955ed70867f2a64f417bc1ab34', 'range': (5159, 6355)}]\",\n",
       "   'exchange': 'AMEX',\n",
       "   'name': 'AMEX_ATRS_2013.pdf',\n",
       "   'symbol': 'ATRS',\n",
       "   'year': 2013},\n",
       "  {'_split_id': 46,\n",
       "   '_split_overlap': \"[{'doc_id': '46a43c1b61a889dbf93fcf5c3354e551', 'range': (0, 1290)}, {'doc_id': '56a604fc12018009b2fa9a2701a70ff6', 'range': (4872, 6508)}]\",\n",
       "   'exchange': 'AMEX',\n",
       "   'name': 'AMEX_ATRS_2014.pdf',\n",
       "   'symbol': 'ATRS',\n",
       "   'year': 2014}]]"
      ]
     },
     "execution_count": 34,
     "metadata": {},
     "output_type": "execute_result"
    }
   ],
   "source": [
    "docs['metadatas']"
   ]
  },
  {
   "cell_type": "code",
   "execution_count": 36,
   "metadata": {},
   "outputs": [],
   "source": [
    "query=['How much revenue did the company recognize from its promotion and license agreement with Leo Pharma in 2014 and 2013?']\n",
    "include = [\"embeddings\", \"metadatas\", \"documents\", \"distances\"]\n",
    "n=5\n",
    "docs=chroma.retriever(query=query, n_results=n, include=include)"
   ]
  },
  {
   "cell_type": "code",
   "execution_count": 37,
   "metadata": {},
   "outputs": [
    {
     "data": {
      "text/plain": [
       "[['under the agreement, an upfront payment, development milestones, and royalties on the partners product sales, as well as a purchase price for each device sold are to be received by the company. the company identified and evaluated a number of deliverables in the agreement and concluded that the manufacturing deliverable has stand-alone value but the license and development work do not have value on a stand-alone basis. as a result, the license and development deliverables do not qualify for treatment as separate units of accounting. accordingly, the license and development deliverables will be accounted for as a single unit of accounting and will be recognized as revenue during the estimated development period. the company recognized revenue in 2014 of approximately $560,000 and recorded deferred revenue of $115,000 at december 31, 2014 in connection with this agreement. leo pharma promotion and license agreement in november 2013, the company entered into a promotion and license agreement with leo pharma. under this agreement the company granted leo pharma the exclusive right to promote otrexuptm to dermatologists for symptomatic control of severe recalcitrant psoriasis in adults in the u.s. leo pharma is responsible for promotion and marketing activities in dermatology and the company is responsible for the supply of otrexuptm product and samples. the company received from leo pharma a non-refundable upfront payment of $5.0 million, a milestone payment of $5.0 million and will receive a milestone payment of $10.0 million upon realizing a defined level of net sales in a calendar year. the company will pay leo pharma a percentage of net sales generated in dermatology and will record the payments to leo pharma as sales and marketing expense. the company identified and evaluated a number of deliverables in the agreement and concluded that none of the deliverables have value on a stand-alone basis. as a result, these deliverables do not qualify for treatment as separate units of accounting. accordingly, the deliverables have been accounted for as a single unit of accounting and each of the payments will be allocated to these deliverables and will be recognized as revenue over the 35 month estimated life of the agreement. the company recognized revenue of $3,429,000 and $571,000 in the years ended december 31, 2014 and 2013, respectively, and recorded deferred revenue of $6,000,000 at december 31, 2014. teva license development and supply agreements in november 2012, the company entered into a license, supply and distribution agreement with teva for an auto injector product containing sumatriptan for the treatment of migraines. teva will manufacture and supply sumatriptan in a prefilled syringe. the company will manufacture the device, assemble the device and prefilled syringe and supply the final product to teva for distribution. teva will distribute the product in the united states. teva also received an option for rights in other territories. under the agreement, the company received an upfront payment, which was deferred, and will receive a milestone payment upon commercial launch. in addition, net profits will be split 50/50 between the company and teva. the term of the agreement is seven years from commercial launch, with automatic one year renewals. in december 2007, the company entered into a license, development and supply agreement with teva under which the company will develop and supply a disposable pen injector for use with two undisclosed patient- administered pharmaceutical products. under the agreement, an upfront payment, development milestones, and royalties on tevas product sales, as well as a purchase price for each device sold are to be received by the company under certain circumstances. based on an analysis under accounting literature applicable at the time of the agreement, the entire arrangement was considered a single unit of accounting. therefore, payments received and development costs incurred were deferred and were to be recognized from the start of manufacturing through the end of the initial contract period. in january 2011, this license, development and supply agreement was amended wherein teva pays for all development work and tooling associated with device development. additionally, the company is now developing two different disposable pens, one for each product. the company determined that the changes to the agreement as a result of the amendment was a material modification to the agreement and the accounting for the revenue and costs under this agreement was changed. for the year ended december 31, 2012, the accounting change resulting from the material modification resulted in recognition of licensing revenue previously deferred of $62,225. this agreement will continue until the later of december 2017 or the expiration date of the last to expire patent covering the device or product that is filed no later than 12 months after fda approval, and will be automatically renewed for successive periods of two years each. in september 2006, the company entered into a supply agreement with teva. pursuant to the agreement, teva is obligated to purchase all of its needle-free delivery device requirements from antares for hgh to be marketed in the united states. antares was entitled to an upfront cash payment, milestone fees and royalty payments on tevas net sales, as well as a purchase price for each device sold. the upfront payment was recognized as revenue over the development period. the milestone fees and royalties will be recognized as revenue when earned. in 2009, teva launched the companys tjet needle-free device with their hgh tev-tropin. in 2010, the company received a milestone payment from teva in connection with this agreement. the original term of this agreement extended through september 2013. in may 2013 the agreement was amended to provide for one year automatic renewals unless terminated by either party six months ahead of the expiring term. in the fourth quarter of 2014, teva sold the u.s. rights to 5 mg tev-tropin to ferring. tev-tropin 10 mg is pending fda approval. in july 2006, the company entered into an exclusive license development and supply agreement with teva.',\n",
       "  'selling prices in this arrangement were determined using estimated selling prices because vsoe and tpe were not available. the primary factors considered in determining selling price estimates in this arrangement were estimated costs, reasonable margin estimates and historical experience. the company determined that the license and development activities, which include the manufacturing start-up activities, do not have value to the customer on a stand-alone basis as proprietary knowledge about the product and technology is required to complete the development activities. as a result, these deliverables do not qualify for treatment as separate units of accounting. accordingly, the license and development activities have been accounted for as a single unit of accounting and arrangement consideration allocated to these deliverables was recognized as revenue over the development period, which ended upon manufacture of launch quantities. the sales based milestone payments will be recognized as revenue when earned, revenue for launch quantities was recognized when product was delivered to actavis and royalties will be recognized as revenue when earned. the company received a milestone payment from actavis in december 2011 upon fda approval, which was recorded as deferred revenue. this milestone payment was recognized as revenue in march of 2012, as launch quantities were delivered within the defined time period and the potential reimbursement liability was eliminated. in the year ended december 31, 2012, the company recognized revenue of $6,770,635 in connection with product sales, manufacturing start-up activities, the milestone payment and royalties. pfizer license agreement in december 2011, the company announced that it licensed to pfizer inc.s consumer healthcare business unit one of its drug delivery technologies to develop an undisclosed product on an exclusive basis for north america. pfizer will assume full cost and responsibility for all clinical development, manufacturing, and commercialization of the product in the licensed territory, which also includes certain non-exclusive territories outside of north america. antares received an upfront payment, and will receive development milestones and sales based milestones, as well as royalties on net sales for three years post launch in the u.s. because the company has no development responsibilities, the upfront and each milestone payment will be recognized as revenue when received. royalties will be recognized as revenue when earned. daewoong development and license agreement in january 2012, the company entered into a licensing agreement with daewoong pharmaceuticals (daewoong) under which daewoong will commercialize the companys oxybutynin gel 3% product, once approved in south korea. the agreement terms include an upfront payment, development and sales-based milestone payments and escalating royalties based on product sales in south korea. because the company has no development responsibilities, the upfront and each milestone payment will be recognized as revenue when received. royalties will be recognized as revenue when earned. the company recognized revenue of $442,859 in 2012 in connection with upfront and milestone payments. the term of the agreement ends on the later of fifteen years following launch of the product or the expiration date of the last to expire patent. biosante license agreement in june 2000, the company entered into an exclusive agreement to license four applications of its drug-delivery technology to biosante in the united states, canada, china, australia, new zealand, south africa, israel, mexico, malaysia and indonesia (collectively, the biosante territories). the company is required to transfer technology know-how to biosante until each countrys regulatory authorities approve the licensed product. biosante will use the licensed technology for the development of hormone replacement therapy products. at the signing of the contract, biosante made an upfront payment to the company, a portion of which, per the terms of the contract, was used to partially offset a later payment made to the company as a result of an upfront payment received by biosante under a sublicense agreement. the initial upfront payment received by the company was for the delivery of intellectual property to biosante. the term of the agreement ends on the later of the tenth anniversary of the first commercial sale of a product or the expiration date of the last to expire patent. the company will receive payments upon the achievement of certain milestones and will receive from biosante a royalty from the sale of licensed products. the company will also receive a portion of any sublicense fees received by biosante. in december 2009, biosante entered into a license agreement with azur pharma international ii limited (azur), for elestrin. biosante has received payments from azur which triggered sublicense payments to the company. because final regulatory approval for this product was obtained by biosante and antares had no further obligations in connection with this product, the sublicense payments were recognized as revenue when received. elestrin is being marketed in the u.s. by meda pharma, who recently acquired the womens health business from jazz pharmaceuticals (jazz), who had previously acquired azur. the company has received royalties on sales of elestrin, which have been recognized as revenue when received. 9. revenue recognition in january of 2011, the company amended the license, development and supply agreement with teva originally entered into in december of 2007 under which the company will develop and supply a disposable pen injector for use with two undisclosed patient-administered pharmaceutical products. under the original agreement, an upfront payment, development milestones, and royalties on tevas product sales, as well as a purchase price for each device sold were to be received by the company under certain circumstances. based on an analysis under accounting literature applicable at the time of the agreement, the entire arrangement was considered a single unit of accounting. therefore, payments received and development costs incurred were deferred and were to be recognized from the start of manufacturing through the end of the initial contract period. changes to the original agreement as a result of the amendment included the following: (i) teva will pay for future device development activities, (ii) teva will pay for and own all commercial tooling developed and produced under the agreement, and (iii) certain potential milestone payments were eliminated.',\n",
       "  'teva accounted for 66%, 33% and 50% of our worldwide revenues in 2013, 2012 and 2011, respectively, ferring accounted for 19%, 22% and 35% of our worldwide revenues in 2013, 2012 and 2011, respectively, and actavis accounted for 7% and 30% of our worldwide revenues in 2013 and 2012, respectively. revenue from teva and ferring resulted from sales of injection devices and disposable components for their hgh formulations, and related royalties. revenue from teva also included development and product revenue related to license agreements with teva for our vibex system and for our pen injector device. revenue from actavis in 2013 resulted from gelnique 3% product sales and royalties, and in 2012 resulted from gelnique 3% product sales, manufacturing start-up and other development activities, royalties and a milestone payment that was recognized in 2012. product sales to actavis ended in the first quarter of 2013, as actavis assumed all manufacturing of gelnique 3% in 2013 as contracted. see results of operations revenues in part ii, item 7 managements discussion and analysis of financial condition and results of operations for a discussion of our products and services revenues and note 10 to the consolidated financial statements for revenues by geographic area. collaborative arrangements and license agreements the following table describes existing pharmaceutical and device relationships and license agreements: partner drug market segment product ferring hgh (zomacton) growth retardation (u.s., europe, asia & pacific) needle free zomajet 2 vision ferring hgh (zomacton) (10 mg formulation) growth retardation (u.s., europe, asia & pacific) needle free zomajet vision x teva hgh (tev-tropin) 5mg growth retardation (united states) needle free tjet jcr hgh growth retardation (japan) needle free twin-jector ez ii teva epinephrine anaphylaxis (u.s. and canada) vibex auto injector teva sumatriptan migraines (u.s. and canada) vibex auto injector teva undisclosed undisclosed (north america, europe & others) pen injector teva undisclosed undisclosed (north america, europe & others) pen injector actavis oxybutynin u.s. and canada gelnique 3% daewoong oxybutynin south korea oxybutynin gel 3% meda estradiol hormone replacement therapy (north america, other countries) elestrin gel pfizer undisclosed consumer health undisclosed population council nestorone/estradiol contraception (worldwide) nestrageltm ferring undisclosed undisclosed (worldwide) transdermal gel leo pharma methotrexate dermatology (u.s.) otrexuptm the table above summarizes agreements under which our partners are selling products, conducting clinical evaluation, and performing development of our products. for competitive reasons, our partners may not divulge their name, the product name or the exact stage of clinical development. in june 2000, we granted an exclusive license to ani to develop and commercialize four of our gel technology products for use in hormone replacement therapy in north america and other countries. ani paid us an upfront payment upon execution of the agreement and is also required to make royalty payments once commercial sales of the products have begun. the royalty payments are based on a percentage of sales of the products and must be paid for a period of 10 years following the first commercial sale of the products, or when the last patent for the products expires, whichever is later. the agreement also provides for milestone payments to us upon the occurrence of certain events related to regulatory filings and approvals. in november 2006, ani entered into a sublicense and marketing agreement with bradley pharmaceuticals, inc. (bradley) for elestrin. in december 2006, the fda approved elestrin for marketing in the united states. bradley was acquired by nycomed inc. in february 2008 and returned elestrin to ani. in december 2008, elestrin was sublicensed to azur and subsequently relaunched in 2009. in january 2012, azur was acquired by jazz. in october 2012, jazz womens health business, including elestrin, was acquired by meda. we receive royalties on sales of elestrin as well as potential sales-based milestone payments. currently we expect that elestrin will be the only product developed under this license agreement. in january 2003, we entered into a revised license agreement with ferring, under which we licensed certain of our intellectual property and extended the territories available to ferring for use of certain of our reusable needle- free injection devices to include all countries and territories in the world except asia/pacific. specifically, we granted to ferring an exclusive, royalty-bearing license, within a prescribed manufacturing territory, to utilize certain of our reusable needle-free injector devices for the field of hgh until the expiration of the last to expire of the patents in any country in the territory. we granted to ferring similar non-exclusive rights outside of the prescribed manufacturing territory. in 2007, we amended this agreement providing for non-exclusive rights in asia along with other changes to financial terms of the agreement. we receive a purchase price and a royalty for each device sold to ferring and a royalty on their hgh sales if we meet certain product quality metrics. we have an agreement with jcr through 2014 under which they will continue to market our needle free injector in japan for use with their hgh product growject. we receive a negotiated purchase price for each device sold, as well as royalties on jcrs net sales of hgh. in july 2006, we entered into an exclusive license development and supply agreement with teva. pursuant to the agreement; teva is obligated to purchase all of its delivery device requirements from us for an epinephrine auto injector product to be marketed in the united states and canada. we received an upfront cash payment, and will receive a negotiated purchase price for each device sold, as well as royalties on sales of their product. this agreement has been amended numerous times and provides for payment of capital equipment and other development work that was outside the scope of the original agreement. the agreement will continue until the later of july 2016 or the expiration of the last to expire patent that is filed no later than 12 months after fda approval.',\n",
       "  'the licensing revenue in 2011 was primarily due to an upfront payment from pfizer associated with a license agreement entered into in december 2011. the licensing revenue in each year also included revenue recognized that was previously deferred in connection with license agreements with teva, ferring and other customers. royalty revenue was $4,671,711, $3,874,284 and $3,144,980 for the years ended december 31, 2013, 2012 and 2011, respectively. we receive royalties from teva and ferring related to needle-free injector device sales and/or hgh sales, from meda pharma on sales of elestrin and from actavis on sales of gelnique 3%. in 2013, 2012 and 2011 our royalties related to needle-free injector device sales and/or hgh sales accounted for approximately 66%, 71% and 91%, respectively, of our overall royalty revenue. we received our first royalty payments from actavis in 2012, which was the primary reason for the increase in royalties in 2012 compared to 2011. the increase in royalties in 2013 was spread relatively evenly among each of our three products. cost of revenues and gross margins the cost of product sales includes product acquisition costs from third party manufacturers and internal manufacturing overhead expenses. cost of product sales were $6,990,186, $6,116,726 and $3,623,186 for the years respectively. the slight gross margin increase in 2013 was due to the significant reduction in sales of our topical oxybutynin gel 3% product to actavis, which was sold at a lower gross margin than is realized on injector related product sales. this gross margin increase was partially offset by the gross margin impact of the increase in initial sales to teva of pre-launch quantities of our vibex auto injector for tevas generic epinephrine auto injector product, which was sold at a lower gross margin than our other injector related products but at a slightly higher gross margin than our oxybutynin gel 3% product. the gross margin decrease in 2012 was due primarily due to sales of approximately $3,100,000 of our topical oxybutynin gel 3% product to actavis at a lower gross profit than is realized on injector related product sales. the cost of development revenue consists primarily of direct external costs, some of which may have been previously incurred and deferred. cost of development revenue was $2,207,044, $3,403,746 and $3,174,006 for the $2,128,000 of development costs were recognized in 2013, 2012 and 2011, respectively, in connection with revenue recognized related to auto injector and pen injector development programs with teva. of the amount recognized in 2011, $408,250 had been previously deferred and was recognized as a result of the amended license, development and supply agreement with teva, as discussed in note 9 to the consolidated financial statements. in 2012 and 2011, development costs of approximately $589,000 and $1,024,000, respectively, were related to certain manufacturing readiness activities under the actavis license agreement. research and development research and development expenses consist of external costs for studies and analysis activities, design work and prototype development, and salaries and overhead costs. research and development expenses were $15,263,371, $14,921,552 and $6,699,325 for the years ended december 31, 2013, 2012 and 2011, respectively. external expenses in connection with development of otrexuptm totaled approximately $3,000,000, $7,600,000 and $2,000,000 in 2013, 2012 and 2011, respectively. the expenses in 2012 included a fee of approximately $2,000,000 paid in connection with the new drug application submitted to the fda in december 2012. external expenses in connection with development of vibex qs t for testosterone replacement therapy totaled primarily due to the addition of new employees. the balance of the research and development expenses in each year consisted of external expenses in connection with other development projects and general operating and overhead expenses associated with research and development activities. sales and marketing sales and marketing expenses were $8,714,461, $1,412,565 and $0 for the years ended december 31, 2013, 2012 and 2011, respectively. expenses related to otrexuptm market research, product branding and pre- commercialization activities were approximately $6,700,000 and $600,000 in 2013 and 2012, respectively. personnel costs were approximately $1,800,000 and $710,000 in 2013 and 2012, respectively. the increase in personnel costs was the result of hiring new employees as we continued to build our sales and marketing organization in connection with commercialization of otrexuptm. the balance of the sales and marketing expenses in each year consisted of general operating and overhead expenses associated with sales and marketing activities. we expect sales and marketing costs in 2014 to be two to three times higher than the 2013 level in connection with the launch and commercialization of otrexuptm. general and administrative general and administrative expenses were $8,293,755, $8,172,488 and $7,398,762 for the years ended $3,500,000 for 2013, 2012 and 2011, respectively. the increases were due to the addition of new employees, increases in noncash stock compensation expenses and salary increases. board of director compensation expenses connection with our intellectual property totaled approximately $1,000,000, $1,100,000 and $900,000 in 2013, 2012 and 2011, respectively. professional fees including audit, tax, legal and other consulting services totaled approximately $600,000, $1,100,000 and $1,200,000 in 2013, 2012 and 2011, respectively. the balance of the general and administrative expenses consists of general operating and overhead expenses. noncash stock compensation expenses, which are included in both personnel costs and director compensation expenses, were approximately $1,600,000, $1,500,000 and $1,400,000 in 2013, 2012 and 2011, respectively. liquidity and capital resources we have reported net losses of $20,506,776, $11,427,450 and $4,387,920 in the fiscal years ended 2013, 2012 and 2011, respectively. we have accumulated aggregate net losses from the inception of business through december 31, 2013 of $173,295,941. we have not historically generated, and do not currently generate, enough revenue to provide the cash needed to support our operations, and have continued to operate primarily by raising capital. in 2013, we received proceeds of $2,326,838 from the exercise of warrants and stock options, which resulted in the issuance of 2,452,254 shares of our common stock. in 2012, we sold 14,259,868 shares of common stock at a price of $4.00 per share in a public offering.',\n",
       "  'the company received from leo a non-refundable upfront payment of $5.0 million, will receive a milestone payment of $5.0 million upon launch of the product and meeting other performance obligations and will receive a milestone payment of $10.0 million upon realizing a defined level of net sales in a calendar year. the company will pay leo a percentage of net sales generated in dermatology and will record the payments to leo as sales and marketing expense. the company identified and evaluated a number of deliverables in the agreement and concluded that none of the deliverables have value on a stand-alone basis. as a result, these deliverables do not qualify for treatment as separate units of accounting. accordingly, the deliverables have been accounted for as a single unit of accounting and each of the payments will be allocated to these deliverables and will be recognized as revenue over the 35 month estimated life of the agreement. the company recognized revenue of approximately $571,000 in the year ended december 31, 2013, and recorded the $4,429,000 remaining portion of the upfront payment as deferred revenue at december 31, 2013. teva license development and supply agreements in november 2012, the company entered into a license, supply and distribution agreement with teva for an auto injector product containing sumatriptan for the treatment of migraines. teva will manufacture and supply sumatriptan in a prefilled syringe. the company will manufacture the device, assemble the device and prefilled syringe and supply the final product to teva for distribution. teva will distribute the product in the united states. teva also received an option for rights in other territories. under the agreement, the company received an upfront payment, which was deferred, and will receive a milestone payment upon commercial launch. in addition, net profits will be split 50/50 between the company and teva. the term of the agreement is seven years from commercial launch, with automatic one year renewals. in december 2007, the company entered into a license, development and supply agreement with teva under which the company will develop and supply a disposable pen injector for use with two undisclosed patient- administered pharmaceutical products. under the agreement, an upfront payment, development milestones, and royalties on tevas product sales, as well as a purchase price for each device sold are to be received by the company under certain circumstances. based on an analysis under accounting literature applicable at the time of the agreement, the entire arrangement was considered a single unit of accounting. therefore, payments received and development costs incurred were deferred and were to be recognized from the start of manufacturing through the end of the initial contract period. in january 2011, this license, development and supply agreement was amended wherein teva pays for all development work and tooling associated with device development. additionally, we are now developing two different disposable pens, one for each product. as further explained in note 9 to the consolidated financial statements, the company determined that the changes to the agreement as a result of the amendment are a material modification to the agreement and the accounting for the revenue and costs under this agreement was changed. this agreement will continue until the later of december 2017 or the expiration date of the last to expire patent covering the device or product that is filed no later than 12 months after fda approval, and will be automatically renewed for successive periods of two years each. in september 2006, the company entered into a supply agreement with teva. pursuant to the agreement, teva is obligated to purchase all of its needle-free delivery device requirements from antares for hgh to be marketed in the united states. antares was entitled to an upfront cash payment, milestone fees and royalty payments on tevas net sales, as well as a purchase price for each device sold. the upfront payment was recognized as revenue over the development period. the milestone fees and royalties will be recognized as revenue when earned. in 2009, teva launched the companys tjet needle-free device with their hgh tev-tropin. in 2010, the company received a milestone payment from teva in connection with this agreement. the original term of this agreement extended through september 2013. in may 2013 the agreement was amended to provide for one year automatic renewals unless terminated by either party six months ahead of the expiring term. in july 2006, the company entered into an exclusive license development and supply agreement with teva. pursuant to the agreement, teva is obligated to purchase all of its delivery device requirements from antares for an auto injector product containing epinephrine to be marketed in the united states and canada. antares was entitled to an upfront cash payment, milestone fees, a negotiated purchase price for each device sold, as well as royalties on sales of their product. this agreement will continue until the later of july 2016 or the expiration date of the last to expire patent covering the device or product that is filed no later than 12 months after fda approval. on april 26, 2012, the company announced that meridian medical technologies, a pfizer subsidiary, entered into a settlement agreement with teva that will resolve pending patent litigation related to its abbreviated new drug application (anda) for a generic epinephrine auto-injector. according to the terms of the settlement, teva may launch a generic epinephrine auto-injector covered by its anda on june 22, 2015 or earlier under certain circumstances, subject to receipt of approval from the u.s. food and drug administration. additional terms of the agreement are confidential. under a separate agreement, teva has agreed to provide the company with device orders of an undisclosed amount in the years 2013 and 2014, to make a milestone payment to the company upon fda approval of epinephrine auto-injector, and to assume all litigation costs related to the patent litigation between teva and meridian medical.']]"
      ]
     },
     "execution_count": 37,
     "metadata": {},
     "output_type": "execute_result"
    }
   ],
   "source": [
    "docs['documents']"
   ]
  },
  {
   "cell_type": "code",
   "execution_count": 42,
   "metadata": {},
   "outputs": [
    {
     "name": "stdout",
     "output_type": "stream",
     "text": [
      "If your client is running well then you should see a heartbeat greater than 0:  1689970551725302193\n"
     ]
    }
   ],
   "source": [
    "# Ejemplo de uso \n",
    "from chroma import chroma\n",
    "from chromadb.utils import embedding_functions\n",
    "\n",
    "#default_ef = embedding_functions.DefaultEmbeddingFunction()\n",
    "sentence_transformer_ef = embedding_functions.SentenceTransformerEmbeddingFunction(model_name=\"multi-qa-MiniLM-L6-cos-v1\")\n",
    "\n",
    "path='/home/gonza/gonza/Financial_Chatbot_Advisor/chroma_new'\n",
    "chroma = chroma(path=path)\n",
    "chroma.collection(collection='multi-qa-MiniLM-L6-cos-v1',embedding_function=sentence_transformer_ef)\n",
    "chroma.add_data(csv='/home/gonza/gonza/Financial_Chatbot_Advisor/git/FinancialAdvisorChatbot/data.csv', rows=2190)"
   ]
  },
  {
   "cell_type": "code",
   "execution_count": 55,
   "metadata": {},
   "outputs": [],
   "source": [
    "collection='multi-qa-MiniLM-L6-cos-v1'\n",
    "query=['What are the responsibilities of the registrants and their certifying officers in relation to disclosure controls and procedures?']\n",
    "include = [\"embeddings\", \"metadatas\", \"documents\", \"distances\"]\n",
    "n=3\n",
    "docs=chroma.retriever(query=query, n_results=n, include=include)"
   ]
  },
  {
   "cell_type": "code",
   "execution_count": 65,
   "metadata": {},
   "outputs": [],
   "source": [
    "collection='multi-qa-MiniLM-L6-cos-v1'\n",
    "query=['How does the company plan to meet its obligations under the 2019-1 Aircraft EETCs and make interest and principal payments on time?']\n",
    "include = [\"embeddings\", \"metadatas\", \"documents\", \"distances\"]\n",
    "n=3\n",
    "docs=chroma.retriever(query=query, n_results=n, include=include)"
   ]
  },
  {
   "cell_type": "code",
   "execution_count": 66,
   "metadata": {},
   "outputs": [
    {
     "data": {
      "text/plain": [
       "dict_keys(['ids', 'distances', 'metadatas', 'embeddings', 'documents'])"
      ]
     },
     "execution_count": 66,
     "metadata": {},
     "output_type": "execute_result"
    }
   ],
   "source": [
    "docs.keys()"
   ]
  },
  {
   "cell_type": "code",
   "execution_count": 76,
   "metadata": {},
   "outputs": [
    {
     "data": {
      "text/plain": [
       "'certain other events, including the occurrence of a change of control with respect to aag and certain aadvantage collateral sales exceeding a specified threshold, will also trigger mandatory repurchase or mandatory prepayment provisions under the aadvantage indenture and the aadvantage term loan facility, respectively. notes to consolidated financial statements of american airlines group inc. (d) eetcs 2021-1 aircraft eetcs in november 2021, american created two pass-through trusts which issued $960 million aggregate face amount of series 2021-1 class a and class b eetcs (the 2021-1 aircraft eetcs) in connection with the financing of 26 aircraft previously delivered or originally scheduled to be delivered to american through september 2022 (the 2021-1 aircraft). in 2021, $94 million of the proceeds had been used to purchase equipment notes issued by american in connection with the financing of five aircraft under the 2021-1 aircraft eetcs, all of which was used to repay existing indebtedness. during 2022, $866 million of proceeds had been used to purchase equipment notes issued by american in connection with the financing of 21 aircraft under the 2021-1 aircraft eetcs. as of december 31, 2022, there are no remaining proceeds held in escrow, and all proceeds have been used to purchase equipment notes issued by american. interest and principal payments on equipment notes issued in connection with the 2021-1 aircraft eetcs are payable semi-annually in january and july of each year. interest payments began in july 2022 and principal payments began in january 2023. certain information regarding the 2021-1 aircraft eetc equipment notes, as of december 31, 2022, is set forth in the table below: 2021-1 aircraft eetcs series a series b aggregate principal issued . . . . . . . . . . . . . . . . . . . . . . . . . . . . . . . . . . . . . . . $758 million $202 million fixed interest rate per annum . . . . . . . . . . . . . . . . . . . . . . . . . . . . . . . . . . . . 2.875% 3.95% maturity date . . . . . . . . . . . . . . . . . . . . . . . . . . . . . . . . . . . . . . . . . . . . . . . . . . july 2034 july 2030 (e) equipment loans and other notes payable issued in 2022 in 2022, american entered into agreements under which it borrowed $205 million in connection with the financing of certain aircraft. debt incurred under these agreements mature in 2034 and bear interest at variable rates (comprised of the secured overnight financing rate (sofr) plus an applicable margin) averaging 6.77% as of december 31, 2022. (f) special facility revenue bonds in january 2020, american and british airways announced the start of construction projects to upgrade new yorks jfk terminal 8. the construction project is expected to be fully completed in early 2023 and is estimated to cost $439 million, of which $298 million was funded with proceeds of the special facility revenue bonds issued by the new york transportation development corporation (nytdc) on behalf of american in june 2020 (the 2020 jfk bonds) and approximately $84 million of which was funded with proceeds of the approximately $150 million of special facility revenue bonds nytdc issued in june 2021 (the 2021 jfk bonds). american is required to pay debt service on the 2021 jfk bonds through payments under a loan agreement with nytdc (as amended), and american and aag guarantee the 2021 jfk bonds. american continues to pay debt service on the outstanding bonds issued by nytdc on behalf of american in 2016 and 2020 (the 2016 and 2020 jfk bonds) and american and aag continue to guarantee the 2016 and 2020 jfk bonds. americans and aags obligations under these guarantees are secured by a leasehold mortgage on americans lease of terminal 8 and related property from the port authority of new york and new jersey. the 2021 jfk bonds, in aggregate, were priced at par value. the gross proceeds from the issuance of the 2021 jfk bonds were approximately $150 million. of this amount, $4 million was used to fund notes to consolidated financial statements of american airlines group inc. the costs of issuance of the 2021 jfk bonds, $62 million was used to fund the redemption of the 2016 and 2020 jfk bonds due august 2021, with the remaining amount of proceeds received held in restricted cash and short-term investments on the consolidated balance sheet and to be used to finance a portion of the cost of the renovation and expansion of terminal 8. the 2021 jfk bonds are comprised of term bonds, $70 million of which bear interest at 2.25% per annum and mature on august 1, 2026, and $80 million of which bear interest at 3.00% per annum and mature on august 1, 2031. as of december 31, 2022, $72 million of proceeds funded by the issuance of the 2020 and 2021 jfk bonds are included in restricted cash and short-term investments on the accompanying consolidated balance sheet. (g) psp promissory notes as partial compensation to the u.s. government for the provision of financial assistance under the psp agreements, aag issued promissory notes to treasury (psp1 promissory note, psp2 promissory note and psp3 promissory note, collectively the psp promissory notes), in the aggregate principal sum of $3.7 billion which provides for the guarantee of our obligations under the psp promissory notes by the subsidiaries.'"
      ]
     },
     "execution_count": 76,
     "metadata": {},
     "output_type": "execute_result"
    }
   ],
   "source": [
    "docs['documents'][0][0]"
   ]
  },
  {
   "cell_type": "code",
   "execution_count": 79,
   "metadata": {},
   "outputs": [
    {
     "data": {
      "text/plain": [
       "{'_split_id': 105,\n",
       " '_split_overlap': \"[{'doc_id': '22a02fe63c20d22cbdcbb7ba1a73f276', 'range': (0, 1586)}, {'doc_id': '617d7db1008a188f9d49f36522cb2ebe', 'range': (3961, 5314)}]\",\n",
       " 'exchange': 'NASDAQ',\n",
       " 'name': 'NASDAQ_AAL_2022.pdf',\n",
       " 'symbol': 'AAL',\n",
       " 'year': 2022}"
      ]
     },
     "execution_count": 79,
     "metadata": {},
     "output_type": "execute_result"
    }
   ],
   "source": [
    "docs['metadatas'][0][0]"
   ]
  },
  {
   "cell_type": "code",
   "execution_count": 2,
   "metadata": {},
   "outputs": [],
   "source": [
    "import pandas as pd\n",
    "\n",
    "pd=pd.read_csv('/home/gonza/gonza/Financial_Chatbot_Advisor/git/FinancialAdvisorChatbot/data.csv')"
   ]
  },
  {
   "cell_type": "code",
   "execution_count": 5,
   "metadata": {},
   "outputs": [
    {
     "data": {
      "text/plain": [
       "name                  0\n",
       "exchange              0\n",
       "symbol                0\n",
       "year                  0\n",
       "document              0\n",
       "Name              20694\n",
       "Market Cap        20694\n",
       "Sector            21409\n",
       "Industry          21409\n",
       "Country           20694\n",
       "_split_id             0\n",
       "_split_overlap        0\n",
       "dtype: int64"
      ]
     },
     "execution_count": 5,
     "metadata": {},
     "output_type": "execute_result"
    }
   ],
   "source": [
    "pd.isna().sum()"
   ]
  },
  {
   "cell_type": "code",
   "execution_count": 9,
   "metadata": {},
   "outputs": [
    {
     "data": {
      "text/plain": [
       "Index(['name', 'exchange', 'symbol', 'year', 'document', 'Name', 'Market Cap',\n",
       "       'Sector', 'Industry', 'Country', '_split_id', '_split_overlap'],\n",
       "      dtype='object')"
      ]
     },
     "execution_count": 9,
     "metadata": {},
     "output_type": "execute_result"
    }
   ],
   "source": [
    "pd.columns"
   ]
  },
  {
   "cell_type": "code",
   "execution_count": 13,
   "metadata": {},
   "outputs": [],
   "source": [
    "pd=pd.reset_index()"
   ]
  },
  {
   "cell_type": "code",
   "execution_count": 23,
   "metadata": {},
   "outputs": [
    {
     "data": {
      "text/plain": [
       "Index(['index', 'name', 'exchange', 'symbol', 'year', 'document', 'Name',\n",
       "       'Market Cap', 'Sector', 'Industry', 'Country', '_split_id',\n",
       "       '_split_overlap'],\n",
       "      dtype='object')"
      ]
     },
     "execution_count": 23,
     "metadata": {},
     "output_type": "execute_result"
    }
   ],
   "source": [
    "pd.columns"
   ]
  },
  {
   "cell_type": "markdown",
   "metadata": {},
   "source": [
    "# CARGANDO TODO EL DATASEEEEEEEEEEEEEEEEEEEEEEEEEEEEEEEEEEET!"
   ]
  },
  {
   "cell_type": "code",
   "execution_count": 33,
   "metadata": {},
   "outputs": [
    {
     "name": "stdout",
     "output_type": "stream",
     "text": [
      "If your client is running well then you should see a heartbeat greater than 0:  1689983933625777304\n"
     ]
    },
    {
     "name": "stderr",
     "output_type": "stream",
     "text": [
      "Add of existing embedding ID: 0\n",
      "Insert of existing embedding ID: 0\n",
      "Add of existing embedding ID: 1\n",
      "Insert of existing embedding ID: 1\n",
      "Add of existing embedding ID: 2\n",
      "Insert of existing embedding ID: 2\n",
      "Add of existing embedding ID: 3\n",
      "Insert of existing embedding ID: 3\n",
      "Add of existing embedding ID: 4\n",
      "Insert of existing embedding ID: 4\n"
     ]
    }
   ],
   "source": [
    "# Ejemplo de uso \n",
    "from chroma import chroma\n",
    "from chromadb.utils import embedding_functions\n",
    "\n",
    "#default_ef = embedding_functions.DefaultEmbeddingFunction()\n",
    "sentence_transformer_ef = embedding_functions.SentenceTransformerEmbeddingFunction(model_name=\"multi-qa-MiniLM-L6-cos-v1\")\n",
    "\n",
    "path='/home/gonza/gonza/Financial_Chatbot_Advisor/git/FinancialAdvisorChatbot/data_chroma'\n",
    "chroma = chroma(path=path)\n",
    "chroma.collection(collection='multi-qa-MiniLM-L6-cos-v1',embedding_function=sentence_transformer_ef)\n",
    "chroma.add_data(csv='/home/gonza/gonza/Financial_Chatbot_Advisor/git/FinancialAdvisorChatbot/data.csv')"
   ]
  },
  {
   "cell_type": "code",
   "execution_count": 34,
   "metadata": {},
   "outputs": [],
   "source": [
    "import chromadb\n",
    "client = chromadb.PersistentClient(path=path)\n",
    "collection = client.get_collection(\"multi-qa-MiniLM-L6-cos-v1\")"
   ]
  },
  {
   "cell_type": "code",
   "execution_count": 36,
   "metadata": {},
   "outputs": [
    {
     "data": {
      "text/plain": [
       "98481"
      ]
     },
     "execution_count": 36,
     "metadata": {},
     "output_type": "execute_result"
    }
   ],
   "source": [
    "collection.count()"
   ]
  },
  {
   "cell_type": "code",
   "execution_count": null,
   "metadata": {},
   "outputs": [],
   "source": []
  }
 ],
 "metadata": {
  "kernelspec": {
   "display_name": "env3.9",
   "language": "python",
   "name": "python3"
  },
  "language_info": {
   "codemirror_mode": {
    "name": "ipython",
    "version": 3
   },
   "file_extension": ".py",
   "mimetype": "text/x-python",
   "name": "python",
   "nbconvert_exporter": "python",
   "pygments_lexer": "ipython3",
   "version": "3.9.17"
  },
  "orig_nbformat": 4
 },
 "nbformat": 4,
 "nbformat_minor": 2
}
