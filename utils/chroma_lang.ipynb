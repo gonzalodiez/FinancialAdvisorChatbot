{
 "cells": [
  {
   "cell_type": "code",
   "execution_count": null,
   "metadata": {},
   "outputs": [],
   "source": [
    "# New env: env3.10\n",
    "# !conda create --name env3.10 python=3.10"
   ]
  },
  {
   "cell_type": "code",
   "execution_count": 3,
   "metadata": {},
   "outputs": [
    {
     "name": "stdout",
     "output_type": "stream",
     "text": [
      "Requirement already satisfied: chromadb in /home/gonza/miniconda3/envs/env3.10/lib/python3.10/site-packages (0.4.2)\n",
      "Requirement already satisfied: pandas>=1.3 in /home/gonza/miniconda3/envs/env3.10/lib/python3.10/site-packages (from chromadb) (2.0.3)\n",
      "Requirement already satisfied: requests>=2.28 in /home/gonza/miniconda3/envs/env3.10/lib/python3.10/site-packages (from chromadb) (2.31.0)\n",
      "Requirement already satisfied: pydantic<2.0,>=1.9 in /home/gonza/miniconda3/envs/env3.10/lib/python3.10/site-packages (from chromadb) (1.10.11)\n",
      "Requirement already satisfied: chroma-hnswlib==0.7.1 in /home/gonza/miniconda3/envs/env3.10/lib/python3.10/site-packages (from chromadb) (0.7.1)\n",
      "Requirement already satisfied: fastapi<0.100.0,>=0.95.2 in /home/gonza/miniconda3/envs/env3.10/lib/python3.10/site-packages (from chromadb) (0.99.1)\n",
      "Requirement already satisfied: uvicorn[standard]>=0.18.3 in /home/gonza/miniconda3/envs/env3.10/lib/python3.10/site-packages (from chromadb) (0.23.1)\n",
      "Requirement already satisfied: numpy>=1.21.6 in /home/gonza/miniconda3/envs/env3.10/lib/python3.10/site-packages (from chromadb) (1.25.1)\n",
      "Requirement already satisfied: posthog>=2.4.0 in /home/gonza/miniconda3/envs/env3.10/lib/python3.10/site-packages (from chromadb) (3.0.1)\n",
      "Requirement already satisfied: typing-extensions>=4.5.0 in /home/gonza/miniconda3/envs/env3.10/lib/python3.10/site-packages (from chromadb) (4.7.1)\n",
      "Requirement already satisfied: pulsar-client>=3.1.0 in /home/gonza/miniconda3/envs/env3.10/lib/python3.10/site-packages (from chromadb) (3.2.0)\n",
      "Requirement already satisfied: onnxruntime>=1.14.1 in /home/gonza/miniconda3/envs/env3.10/lib/python3.10/site-packages (from chromadb) (1.15.1)\n",
      "Requirement already satisfied: tokenizers>=0.13.2 in /home/gonza/miniconda3/envs/env3.10/lib/python3.10/site-packages (from chromadb) (0.13.3)\n",
      "Requirement already satisfied: pypika>=0.48.9 in /home/gonza/miniconda3/envs/env3.10/lib/python3.10/site-packages (from chromadb) (0.48.9)\n",
      "Requirement already satisfied: tqdm>=4.65.0 in /home/gonza/miniconda3/envs/env3.10/lib/python3.10/site-packages (from chromadb) (4.65.0)\n",
      "Requirement already satisfied: overrides>=7.3.1 in /home/gonza/miniconda3/envs/env3.10/lib/python3.10/site-packages (from chromadb) (7.3.1)\n",
      "Requirement already satisfied: importlib-resources in /home/gonza/miniconda3/envs/env3.10/lib/python3.10/site-packages (from chromadb) (6.0.0)\n",
      "Requirement already satisfied: starlette<0.28.0,>=0.27.0 in /home/gonza/miniconda3/envs/env3.10/lib/python3.10/site-packages (from fastapi<0.100.0,>=0.95.2->chromadb) (0.27.0)\n",
      "Requirement already satisfied: coloredlogs in /home/gonza/miniconda3/envs/env3.10/lib/python3.10/site-packages (from onnxruntime>=1.14.1->chromadb) (15.0.1)\n",
      "Requirement already satisfied: flatbuffers in /home/gonza/miniconda3/envs/env3.10/lib/python3.10/site-packages (from onnxruntime>=1.14.1->chromadb) (23.5.26)\n",
      "Requirement already satisfied: packaging in /home/gonza/miniconda3/envs/env3.10/lib/python3.10/site-packages (from onnxruntime>=1.14.1->chromadb) (23.1)\n",
      "Requirement already satisfied: protobuf in /home/gonza/miniconda3/envs/env3.10/lib/python3.10/site-packages (from onnxruntime>=1.14.1->chromadb) (4.23.4)\n",
      "Requirement already satisfied: sympy in /home/gonza/miniconda3/envs/env3.10/lib/python3.10/site-packages (from onnxruntime>=1.14.1->chromadb) (1.12)\n",
      "Requirement already satisfied: python-dateutil>=2.8.2 in /home/gonza/miniconda3/envs/env3.10/lib/python3.10/site-packages (from pandas>=1.3->chromadb) (2.8.2)\n",
      "Requirement already satisfied: pytz>=2020.1 in /home/gonza/miniconda3/envs/env3.10/lib/python3.10/site-packages (from pandas>=1.3->chromadb) (2023.3)\n",
      "Requirement already satisfied: tzdata>=2022.1 in /home/gonza/miniconda3/envs/env3.10/lib/python3.10/site-packages (from pandas>=1.3->chromadb) (2023.3)\n",
      "Requirement already satisfied: six>=1.5 in /home/gonza/miniconda3/envs/env3.10/lib/python3.10/site-packages (from posthog>=2.4.0->chromadb) (1.16.0)\n",
      "Requirement already satisfied: monotonic>=1.5 in /home/gonza/miniconda3/envs/env3.10/lib/python3.10/site-packages (from posthog>=2.4.0->chromadb) (1.6)\n",
      "Requirement already satisfied: backoff>=1.10.0 in /home/gonza/miniconda3/envs/env3.10/lib/python3.10/site-packages (from posthog>=2.4.0->chromadb) (2.2.1)\n",
      "Requirement already satisfied: certifi in /home/gonza/miniconda3/envs/env3.10/lib/python3.10/site-packages (from pulsar-client>=3.1.0->chromadb) (2023.5.7)\n",
      "Requirement already satisfied: charset-normalizer<4,>=2 in /home/gonza/miniconda3/envs/env3.10/lib/python3.10/site-packages (from requests>=2.28->chromadb) (3.2.0)\n",
      "Requirement already satisfied: idna<4,>=2.5 in /home/gonza/miniconda3/envs/env3.10/lib/python3.10/site-packages (from requests>=2.28->chromadb) (3.4)\n",
      "Requirement already satisfied: urllib3<3,>=1.21.1 in /home/gonza/miniconda3/envs/env3.10/lib/python3.10/site-packages (from requests>=2.28->chromadb) (2.0.4)\n",
      "Requirement already satisfied: click>=7.0 in /home/gonza/miniconda3/envs/env3.10/lib/python3.10/site-packages (from uvicorn[standard]>=0.18.3->chromadb) (8.1.6)\n",
      "Requirement already satisfied: h11>=0.8 in /home/gonza/miniconda3/envs/env3.10/lib/python3.10/site-packages (from uvicorn[standard]>=0.18.3->chromadb) (0.14.0)\n",
      "Requirement already satisfied: httptools>=0.5.0 in /home/gonza/miniconda3/envs/env3.10/lib/python3.10/site-packages (from uvicorn[standard]>=0.18.3->chromadb) (0.6.0)\n",
      "Requirement already satisfied: python-dotenv>=0.13 in /home/gonza/miniconda3/envs/env3.10/lib/python3.10/site-packages (from uvicorn[standard]>=0.18.3->chromadb) (1.0.0)\n",
      "Requirement already satisfied: pyyaml>=5.1 in /home/gonza/miniconda3/envs/env3.10/lib/python3.10/site-packages (from uvicorn[standard]>=0.18.3->chromadb) (6.0.1)\n",
      "Requirement already satisfied: uvloop!=0.15.0,!=0.15.1,>=0.14.0 in /home/gonza/miniconda3/envs/env3.10/lib/python3.10/site-packages (from uvicorn[standard]>=0.18.3->chromadb) (0.17.0)\n",
      "Requirement already satisfied: watchfiles>=0.13 in /home/gonza/miniconda3/envs/env3.10/lib/python3.10/site-packages (from uvicorn[standard]>=0.18.3->chromadb) (0.19.0)\n",
      "Requirement already satisfied: websockets>=10.4 in /home/gonza/miniconda3/envs/env3.10/lib/python3.10/site-packages (from uvicorn[standard]>=0.18.3->chromadb) (11.0.3)\n",
      "Requirement already satisfied: anyio<5,>=3.4.0 in /home/gonza/miniconda3/envs/env3.10/lib/python3.10/site-packages (from starlette<0.28.0,>=0.27.0->fastapi<0.100.0,>=0.95.2->chromadb) (3.7.1)\n",
      "Requirement already satisfied: humanfriendly>=9.1 in /home/gonza/miniconda3/envs/env3.10/lib/python3.10/site-packages (from coloredlogs->onnxruntime>=1.14.1->chromadb) (10.0)\n",
      "Requirement already satisfied: mpmath>=0.19 in /home/gonza/miniconda3/envs/env3.10/lib/python3.10/site-packages (from sympy->onnxruntime>=1.14.1->chromadb) (1.3.0)\n",
      "Requirement already satisfied: sniffio>=1.1 in /home/gonza/miniconda3/envs/env3.10/lib/python3.10/site-packages (from anyio<5,>=3.4.0->starlette<0.28.0,>=0.27.0->fastapi<0.100.0,>=0.95.2->chromadb) (1.3.0)\n",
      "Requirement already satisfied: exceptiongroup in /home/gonza/miniconda3/envs/env3.10/lib/python3.10/site-packages (from anyio<5,>=3.4.0->starlette<0.28.0,>=0.27.0->fastapi<0.100.0,>=0.95.2->chromadb) (1.1.2)\n",
      "Collecting langchain\n",
      "  Downloading langchain-0.0.239-py3-none-any.whl (1.4 MB)\n",
      "\u001b[2K     \u001b[90m━━━━━━━━━━━━━━━━━━━━━━━━━━━━━━━━━━━━━━━━\u001b[0m \u001b[32m1.4/1.4 MB\u001b[0m \u001b[31m3.2 MB/s\u001b[0m eta \u001b[36m0:00:00\u001b[0ma \u001b[36m0:00:01\u001b[0m\n",
      "\u001b[?25hRequirement already satisfied: PyYAML>=5.4.1 in /home/gonza/miniconda3/envs/env3.10/lib/python3.10/site-packages (from langchain) (6.0.1)\n",
      "Collecting SQLAlchemy<3,>=1.4 (from langchain)\n",
      "  Downloading SQLAlchemy-2.0.19-cp310-cp310-manylinux_2_17_x86_64.manylinux2014_x86_64.whl (2.7 MB)\n",
      "\u001b[2K     \u001b[90m━━━━━━━━━━━━━━━━━━━━━━━━━━━━━━━━━━━━━━━━\u001b[0m \u001b[32m2.7/2.7 MB\u001b[0m \u001b[31m4.7 MB/s\u001b[0m eta \u001b[36m0:00:00\u001b[0ma \u001b[36m0:00:01\u001b[0m\n",
      "\u001b[?25hCollecting aiohttp<4.0.0,>=3.8.3 (from langchain)\n",
      "  Downloading aiohttp-3.8.5-cp310-cp310-manylinux_2_17_x86_64.manylinux2014_x86_64.whl (1.0 MB)\n",
      "\u001b[2K     \u001b[90m━━━━━━━━━━━━━━━━━━━━━━━━━━━━━━━━━━━━━━━━\u001b[0m \u001b[32m1.0/1.0 MB\u001b[0m \u001b[31m10.7 MB/s\u001b[0m eta \u001b[36m0:00:00\u001b[0ma \u001b[36m0:00:01\u001b[0m\n",
      "\u001b[?25hCollecting async-timeout<5.0.0,>=4.0.0 (from langchain)\n",
      "  Using cached async_timeout-4.0.2-py3-none-any.whl (5.8 kB)\n",
      "Collecting dataclasses-json<0.6.0,>=0.5.7 (from langchain)\n",
      "  Downloading dataclasses_json-0.5.13-py3-none-any.whl (26 kB)\n",
      "Collecting langsmith<0.1.0,>=0.0.11 (from langchain)\n",
      "  Downloading langsmith-0.0.12-py3-none-any.whl (29 kB)\n",
      "Collecting numexpr<3.0.0,>=2.8.4 (from langchain)\n",
      "  Downloading numexpr-2.8.4-cp310-cp310-manylinux_2_17_x86_64.manylinux2014_x86_64.whl (381 kB)\n",
      "\u001b[2K     \u001b[90m━━━━━━━━━━━━━━━━━━━━━━━━━━━━━━━━━━━━━━\u001b[0m \u001b[32m381.4/381.4 kB\u001b[0m \u001b[31m11.9 MB/s\u001b[0m eta \u001b[36m0:00:00\u001b[0m\n",
      "\u001b[?25hRequirement already satisfied: numpy<2,>=1 in /home/gonza/miniconda3/envs/env3.10/lib/python3.10/site-packages (from langchain) (1.25.1)\n",
      "Collecting openapi-schema-pydantic<2.0,>=1.2 (from langchain)\n",
      "  Using cached openapi_schema_pydantic-1.2.4-py3-none-any.whl (90 kB)\n",
      "Requirement already satisfied: pydantic<2,>=1 in /home/gonza/miniconda3/envs/env3.10/lib/python3.10/site-packages (from langchain) (1.10.11)\n",
      "Requirement already satisfied: requests<3,>=2 in /home/gonza/miniconda3/envs/env3.10/lib/python3.10/site-packages (from langchain) (2.31.0)\n",
      "Collecting tenacity<9.0.0,>=8.1.0 (from langchain)\n",
      "  Using cached tenacity-8.2.2-py3-none-any.whl (24 kB)\n",
      "Collecting attrs>=17.3.0 (from aiohttp<4.0.0,>=3.8.3->langchain)\n",
      "  Using cached attrs-23.1.0-py3-none-any.whl (61 kB)\n",
      "Requirement already satisfied: charset-normalizer<4.0,>=2.0 in /home/gonza/miniconda3/envs/env3.10/lib/python3.10/site-packages (from aiohttp<4.0.0,>=3.8.3->langchain) (3.2.0)\n",
      "Collecting multidict<7.0,>=4.5 (from aiohttp<4.0.0,>=3.8.3->langchain)\n",
      "  Using cached multidict-6.0.4-cp310-cp310-manylinux_2_17_x86_64.manylinux2014_x86_64.whl (114 kB)\n",
      "Collecting yarl<2.0,>=1.0 (from aiohttp<4.0.0,>=3.8.3->langchain)\n",
      "  Using cached yarl-1.9.2-cp310-cp310-manylinux_2_17_x86_64.manylinux2014_x86_64.whl (268 kB)\n",
      "Collecting frozenlist>=1.1.1 (from aiohttp<4.0.0,>=3.8.3->langchain)\n",
      "  Using cached frozenlist-1.4.0-cp310-cp310-manylinux_2_5_x86_64.manylinux1_x86_64.manylinux_2_17_x86_64.manylinux2014_x86_64.whl (225 kB)\n",
      "Collecting aiosignal>=1.1.2 (from aiohttp<4.0.0,>=3.8.3->langchain)\n",
      "  Using cached aiosignal-1.3.1-py3-none-any.whl (7.6 kB)\n",
      "Collecting marshmallow<4.0.0,>=3.18.0 (from dataclasses-json<0.6.0,>=0.5.7->langchain)\n",
      "  Downloading marshmallow-3.20.1-py3-none-any.whl (49 kB)\n",
      "\u001b[2K     \u001b[90m━━━━━━━━━━━━━━━━━━━━━━━━━━━━━━━━━━━━━━━━\u001b[0m \u001b[32m49.4/49.4 kB\u001b[0m \u001b[31m19.6 MB/s\u001b[0m eta \u001b[36m0:00:00\u001b[0m\n",
      "\u001b[?25hCollecting typing-inspect<1,>=0.4.0 (from dataclasses-json<0.6.0,>=0.5.7->langchain)\n",
      "  Using cached typing_inspect-0.9.0-py3-none-any.whl (8.8 kB)\n",
      "Requirement already satisfied: typing-extensions>=4.2.0 in /home/gonza/miniconda3/envs/env3.10/lib/python3.10/site-packages (from pydantic<2,>=1->langchain) (4.7.1)\n",
      "Requirement already satisfied: idna<4,>=2.5 in /home/gonza/miniconda3/envs/env3.10/lib/python3.10/site-packages (from requests<3,>=2->langchain) (3.4)\n",
      "Requirement already satisfied: urllib3<3,>=1.21.1 in /home/gonza/miniconda3/envs/env3.10/lib/python3.10/site-packages (from requests<3,>=2->langchain) (2.0.4)\n",
      "Requirement already satisfied: certifi>=2017.4.17 in /home/gonza/miniconda3/envs/env3.10/lib/python3.10/site-packages (from requests<3,>=2->langchain) (2023.5.7)\n",
      "Collecting greenlet!=0.4.17 (from SQLAlchemy<3,>=1.4->langchain)\n",
      "  Downloading greenlet-2.0.2-cp310-cp310-manylinux_2_17_x86_64.manylinux2014_x86_64.whl (613 kB)\n",
      "\u001b[2K     \u001b[90m━━━━━━━━━━━━━━━━━━━━━━━━━━━━━━━━━━━━━━━\u001b[0m \u001b[32m613.7/613.7 kB\u001b[0m \u001b[31m8.7 MB/s\u001b[0m eta \u001b[36m0:00:00\u001b[0ma \u001b[36m0:00:01\u001b[0m\n",
      "\u001b[?25hRequirement already satisfied: packaging>=17.0 in /home/gonza/miniconda3/envs/env3.10/lib/python3.10/site-packages (from marshmallow<4.0.0,>=3.18.0->dataclasses-json<0.6.0,>=0.5.7->langchain) (23.1)\n",
      "Collecting mypy-extensions>=0.3.0 (from typing-inspect<1,>=0.4.0->dataclasses-json<0.6.0,>=0.5.7->langchain)\n",
      "  Using cached mypy_extensions-1.0.0-py3-none-any.whl (4.7 kB)\n",
      "Installing collected packages: tenacity, numexpr, mypy-extensions, multidict, marshmallow, greenlet, frozenlist, attrs, async-timeout, yarl, typing-inspect, SQLAlchemy, openapi-schema-pydantic, langsmith, aiosignal, dataclasses-json, aiohttp, langchain\n",
      "Successfully installed SQLAlchemy-2.0.19 aiohttp-3.8.5 aiosignal-1.3.1 async-timeout-4.0.2 attrs-23.1.0 dataclasses-json-0.5.13 frozenlist-1.4.0 greenlet-2.0.2 langchain-0.0.239 langsmith-0.0.12 marshmallow-3.20.1 multidict-6.0.4 mypy-extensions-1.0.0 numexpr-2.8.4 openapi-schema-pydantic-1.2.4 tenacity-8.2.2 typing-inspect-0.9.0 yarl-1.9.2\n"
     ]
    }
   ],
   "source": [
    "!pip install chromadb\n",
    "!pip install langchain"
   ]
  },
  {
   "cell_type": "code",
   "execution_count": 5,
   "metadata": {},
   "outputs": [
    {
     "name": "stdout",
     "output_type": "stream",
     "text": [
      "Collecting pypdf\n",
      "  Using cached pypdf-3.12.2-py3-none-any.whl (254 kB)\n",
      "Installing collected packages: pypdf\n",
      "Successfully installed pypdf-3.12.2\n"
     ]
    }
   ],
   "source": [
    "!pip install pypdf"
   ]
  },
  {
   "cell_type": "code",
   "execution_count": 43,
   "metadata": {},
   "outputs": [],
   "source": [
    "# import\n",
    "from langchain.embeddings.sentence_transformer import SentenceTransformerEmbeddings\n",
    "from langchain.text_splitter import CharacterTextSplitter\n",
    "from langchain.vectorstores import Chroma\n",
    "#from langchain.document_loaders import TextLoader\n",
    "from langchain.document_loaders import PyPDFLoader\n",
    "\n",
    "# load the document and split it into chunks\n",
    "#loader = TextLoader(\"../../../state_of_the_union.txt\")\n",
    "loader = PyPDFLoader(\"/home/gonza/gonza/Financial_Chatbot_Advisor/dataset/AMEX_ATRS_2012.pdf\")\n",
    "documents = loader.load()"
   ]
  },
  {
   "cell_type": "code",
   "execution_count": 34,
   "metadata": {},
   "outputs": [
    {
     "data": {
      "text/plain": [
       "'UNITED STATES \\nSECURITIES AND EXCHANGE COMMISSION \\nWashington, D.C. 20549 \\n \\nFORM 10-K \\n \\n [X] ANNUAL REPORT PURSUANT TO SECTION 13 OR 15 (D) OF THE SECURITI ES EXCHANGE ACT OF 1934 \\nFOR THE FISCAL YEAR ENDED DECEMBER 31, 2012 \\n \\n[ ] TRANSITION REPORT PURSUANT TO SECTION 13 OR 15 (d) OF THE SECURITIES EXCHANGE ACT OF  1934 \\nFor transition period from __________ to __________ \\n \\nCommission file number 1-32302 \\n \\nANTARES PHARMA, INC.  \\n(Exact name of registrant as  specified in its charter) \\n \\nA Delaware corporation   I.R.S. Employer Identification No. 41-1350192 \\n \\n100 Princeton South, Suite 300, Ewing, NJ  08628 \\n \\nRegistrant’s telephone number, including area code:  (609) 359-3020 \\n \\nSecurities registered pursuant to section 12(b) of the Act: \\n \\nTitle of each class  Name of each exchange on which registered \\nCommon Stock  NASDAQ Capital Market \\n   \\nSecurities registered pursuant to section 12(g) of the Act:  None \\n \\nIndicate by check mark if the registrant is a well-known seas oned issuer, as defined in Rule 405 of the Securities Act. \\nYES[  ] NO[X] \\n \\nIndicate by check mark if the registrant is not required to file reports pursuant to Section 13 or Section 15(d) of the Act.  \\nYES[  ] NO[X] \\n \\nIndicate by check mark whether the registrant (1) has filed all reports required to be filed by Section 13 or 15(d) of the \\nSecurities Exchange Act of 1934 during the preceding 12 months (or for such shorter period that the registrant was required to file such reports) and (2) has been subject to such  filing requirements for the past 90 days. YES[X]   NO[  ] \\n \\nIndicate by check mark whether the regist rant has submitted electronically and posted on its corporate Web site, if any, \\nevery Interactive Data File required to be submitted and posted pursuant to Rule 405 of Regulation S-T during the \\npreceding 12 months (or for such shorter period that the registrant was required to submit and post such files).   YES[X]   NO[  ] \\n \\nIndicate by check mark if disclosure of delinquent filers pursuant to Item 405 of Regulation S-K is not contained herein, \\nand will not be contained, to the best of the registrant’s  knowledge, in definitive proxy or information statements \\nincorporated by reference in Part III of this Form 10-K or any amendment to this Form 10-K. [X] \\n \\nIndicate by check mark whether th e registrant is a large accelerated filer, an accelerated filer, a non- accelerated filer, or \\na smaller reporting company. See the de finitions of “large accelerated filer,” “accelerated filer” and “smaller reporting \\ncompany” in Rule 12b-2 of the Exchange Act. \\nLarge accelerated filer [  ]        Accelerat ed filer [X]           Non –accelerated filer [  ]        Smaller reporting compan y [  ]  \\n                         (Do not check if a smaller reporting company)  \\n \\nIndicate by check mark if the registrant is a shell company (as defined in Rule 12b-2 of the Act). YES[  ]    NO[X] \\n \\nAggregate market value of the voting and non-voting common stoc k held by nonaffiliates of the registrant as of June 30, \\n2012, was $339,582,000 (based upon the last reported sale price of $3.63 per share on June 30, 2012, on the NASDAQ \\nCapital Market).  \\n \\nThere were 126,170,879 shares of common stock outstanding as of March 8, 2013. \\n \\nDOCUMENTS INCORPORATED BY REFERENCE \\nPortions of the definitive proxy statement for the registrant’s 2013 annual meeting of stockholders to be filed within 120 \\ndays after the end of the period covered by this annual  report on Form 10-K are  incorporated by  reference  into Part III \\nof this annual report on Form 10-K.'"
      ]
     },
     "execution_count": 34,
     "metadata": {},
     "output_type": "execute_result"
    }
   ],
   "source": [
    "documents[0].page_content"
   ]
  },
  {
   "cell_type": "code",
   "execution_count": 44,
   "metadata": {},
   "outputs": [
    {
     "data": {
      "text/plain": [
       "87"
      ]
     },
     "execution_count": 44,
     "metadata": {},
     "output_type": "execute_result"
    }
   ],
   "source": [
    "len(documents)"
   ]
  },
  {
   "cell_type": "code",
   "execution_count": 57,
   "metadata": {},
   "outputs": [],
   "source": [
    "# split it into chunks\n",
    "text_splitter = CharacterTextSplitter(        \n",
    "    separator = \"\\n\\n\",\n",
    "    chunk_size = 1000,\n",
    "    chunk_overlap  = 200,\n",
    "    length_function = len,\n",
    ")\n",
    "#texts = text_splitter.create_documents(documents)\n",
    "docs = text_splitter.split_documents(documents)"
   ]
  },
  {
   "cell_type": "code",
   "execution_count": 58,
   "metadata": {},
   "outputs": [
    {
     "data": {
      "text/plain": [
       "87"
      ]
     },
     "execution_count": 58,
     "metadata": {},
     "output_type": "execute_result"
    }
   ],
   "source": [
    "len(docs)"
   ]
  },
  {
   "cell_type": "code",
   "execution_count": 53,
   "metadata": {},
   "outputs": [
    {
     "data": {
      "text/plain": [
       "Document(page_content='UNITED STATES \\nSECURITIES AND EXCHANGE COMMISSION \\nWashington, D.C. 20549 \\n \\nFORM 10-K \\n \\n [X] ANNUAL REPORT PURSUANT TO SECTION 13 OR 15 (D) OF THE SECURITI ES EXCHANGE ACT OF 1934 \\nFOR THE FISCAL YEAR ENDED DECEMBER 31, 2012 \\n \\n[ ] TRANSITION REPORT PURSUANT TO SECTION 13 OR 15 (d) OF THE SECURITIES EXCHANGE ACT OF  1934 \\nFor transition period from __________ to __________ \\n \\nCommission file number 1-32302 \\n \\nANTARES PHARMA, INC.  \\n(Exact name of registrant as  specified in its charter) \\n \\nA Delaware corporation   I.R.S. Employer Identification No. 41-1350192 \\n \\n100 Princeton South, Suite 300, Ewing, NJ  08628 \\n \\nRegistrant’s telephone number, including area code:  (609) 359-3020 \\n \\nSecurities registered pursuant to section 12(b) of the Act: \\n \\nTitle of each class  Name of each exchange on which registered \\nCommon Stock  NASDAQ Capital Market \\n   \\nSecurities registered pursuant to section 12(g) of the Act:  None \\n \\nIndicate by check mark if the registrant is a well-known seas oned issuer, as defined in Rule 405 of the Securities Act. \\nYES[  ] NO[X] \\n \\nIndicate by check mark if the registrant is not required to file reports pursuant to Section 13 or Section 15(d) of the Act.  \\nYES[  ] NO[X] \\n \\nIndicate by check mark whether the registrant (1) has filed all reports required to be filed by Section 13 or 15(d) of the \\nSecurities Exchange Act of 1934 during the preceding 12 months (or for such shorter period that the registrant was required to file such reports) and (2) has been subject to such  filing requirements for the past 90 days. YES[X]   NO[  ] \\n \\nIndicate by check mark whether the regist rant has submitted electronically and posted on its corporate Web site, if any, \\nevery Interactive Data File required to be submitted and posted pursuant to Rule 405 of Regulation S-T during the \\npreceding 12 months (or for such shorter period that the registrant was required to submit and post such files).   YES[X]   NO[  ] \\n \\nIndicate by check mark if disclosure of delinquent filers pursuant to Item 405 of Regulation S-K is not contained herein, \\nand will not be contained, to the best of the registrant’s  knowledge, in definitive proxy or information statements \\nincorporated by reference in Part III of this Form 10-K or any amendment to this Form 10-K. [X] \\n \\nIndicate by check mark whether th e registrant is a large accelerated filer, an accelerated filer, a non- accelerated filer, or \\na smaller reporting company. See the de finitions of “large accelerated filer,” “accelerated filer” and “smaller reporting \\ncompany” in Rule 12b-2 of the Exchange Act. \\nLarge accelerated filer [  ]        Accelerat ed filer [X]           Non –accelerated filer [  ]        Smaller reporting compan y [  ]  \\n                         (Do not check if a smaller reporting company)  \\n \\nIndicate by check mark if the registrant is a shell company (as defined in Rule 12b-2 of the Act). YES[  ]    NO[X] \\n \\nAggregate market value of the voting and non-voting common stoc k held by nonaffiliates of the registrant as of June 30, \\n2012, was $339,582,000 (based upon the last reported sale price of $3.63 per share on June 30, 2012, on the NASDAQ \\nCapital Market).  \\n \\nThere were 126,170,879 shares of common stock outstanding as of March 8, 2013. \\n \\nDOCUMENTS INCORPORATED BY REFERENCE \\nPortions of the definitive proxy statement for the registrant’s 2013 annual meeting of stockholders to be filed within 120 \\ndays after the end of the period covered by this annual  report on Form 10-K are  incorporated by  reference  into Part III \\nof this annual report on Form 10-K.', metadata={'source': '/home/gonza/gonza/Financial_Chatbot_Advisor/dataset/AMEX_ATRS_2012.pdf', 'page': 0})"
      ]
     },
     "execution_count": 53,
     "metadata": {},
     "output_type": "execute_result"
    }
   ],
   "source": [
    "docs[0]"
   ]
  },
  {
   "cell_type": "code",
   "execution_count": 18,
   "metadata": {},
   "outputs": [
    {
     "name": "stdout",
     "output_type": "stream",
     "text": [
      "Collecting sentence_transformers\n",
      "  Using cached sentence-transformers-2.2.2.tar.gz (85 kB)\n",
      "  Preparing metadata (setup.py) ... \u001b[?25ldone\n",
      "\u001b[?25hCollecting transformers<5.0.0,>=4.6.0 (from sentence_transformers)\n",
      "  Using cached transformers-4.31.0-py3-none-any.whl (7.4 MB)\n",
      "Requirement already satisfied: tqdm in /home/gonza/miniconda3/envs/env3.10/lib/python3.10/site-packages (from sentence_transformers) (4.65.0)\n",
      "Collecting torch>=1.6.0 (from sentence_transformers)\n",
      "  Downloading torch-2.0.1-cp310-cp310-manylinux1_x86_64.whl (619.9 MB)\n",
      "\u001b[2K     \u001b[90m━━━━━━━━━━━━━━━━━━━━━━━━━━━━━━━━━━━━━━━\u001b[0m \u001b[32m619.9/619.9 MB\u001b[0m \u001b[31m4.3 MB/s\u001b[0m eta \u001b[36m0:00:00\u001b[0m00:01\u001b[0m00:02\u001b[0m\n",
      "\u001b[?25hCollecting torchvision (from sentence_transformers)\n",
      "  Downloading torchvision-0.15.2-cp310-cp310-manylinux1_x86_64.whl (6.0 MB)\n",
      "\u001b[2K     \u001b[90m━━━━━━━━━━━━━━━━━━━━━━━━━━━━━━━━━━━━━━━━\u001b[0m \u001b[32m6.0/6.0 MB\u001b[0m \u001b[31m12.1 MB/s\u001b[0m eta \u001b[36m0:00:00\u001b[0m00:01\u001b[0m00:01\u001b[0m\n",
      "\u001b[?25hRequirement already satisfied: numpy in /home/gonza/miniconda3/envs/env3.10/lib/python3.10/site-packages (from sentence_transformers) (1.25.1)\n",
      "Collecting scikit-learn (from sentence_transformers)\n",
      "  Downloading scikit_learn-1.3.0-cp310-cp310-manylinux_2_17_x86_64.manylinux2014_x86_64.whl (10.8 MB)\n",
      "\u001b[2K     \u001b[90m━━━━━━━━━━━━━━━━━━━━━━━━━━━━━━━━━━━━━━━━\u001b[0m \u001b[32m10.8/10.8 MB\u001b[0m \u001b[31m13.0 MB/s\u001b[0m eta \u001b[36m0:00:00\u001b[0m00:01\u001b[0m00:01\u001b[0m\n",
      "\u001b[?25hCollecting scipy (from sentence_transformers)\n",
      "  Using cached scipy-1.11.1-cp310-cp310-manylinux_2_17_x86_64.manylinux2014_x86_64.whl (36.3 MB)\n",
      "Collecting nltk (from sentence_transformers)\n",
      "  Using cached nltk-3.8.1-py3-none-any.whl (1.5 MB)\n",
      "Collecting sentencepiece (from sentence_transformers)\n",
      "  Using cached sentencepiece-0.1.99-cp310-cp310-manylinux_2_17_x86_64.manylinux2014_x86_64.whl (1.3 MB)\n",
      "Collecting huggingface-hub>=0.4.0 (from sentence_transformers)\n",
      "  Using cached huggingface_hub-0.16.4-py3-none-any.whl (268 kB)\n",
      "Collecting filelock (from huggingface-hub>=0.4.0->sentence_transformers)\n",
      "  Using cached filelock-3.12.2-py3-none-any.whl (10 kB)\n",
      "Collecting fsspec (from huggingface-hub>=0.4.0->sentence_transformers)\n",
      "  Using cached fsspec-2023.6.0-py3-none-any.whl (163 kB)\n",
      "Requirement already satisfied: requests in /home/gonza/miniconda3/envs/env3.10/lib/python3.10/site-packages (from huggingface-hub>=0.4.0->sentence_transformers) (2.31.0)\n",
      "Requirement already satisfied: pyyaml>=5.1 in /home/gonza/miniconda3/envs/env3.10/lib/python3.10/site-packages (from huggingface-hub>=0.4.0->sentence_transformers) (6.0.1)\n",
      "Requirement already satisfied: typing-extensions>=3.7.4.3 in /home/gonza/miniconda3/envs/env3.10/lib/python3.10/site-packages (from huggingface-hub>=0.4.0->sentence_transformers) (4.7.1)\n",
      "Requirement already satisfied: packaging>=20.9 in /home/gonza/miniconda3/envs/env3.10/lib/python3.10/site-packages (from huggingface-hub>=0.4.0->sentence_transformers) (23.1)\n",
      "Requirement already satisfied: sympy in /home/gonza/miniconda3/envs/env3.10/lib/python3.10/site-packages (from torch>=1.6.0->sentence_transformers) (1.12)\n",
      "Collecting networkx (from torch>=1.6.0->sentence_transformers)\n",
      "  Using cached networkx-3.1-py3-none-any.whl (2.1 MB)\n",
      "Collecting jinja2 (from torch>=1.6.0->sentence_transformers)\n",
      "  Using cached Jinja2-3.1.2-py3-none-any.whl (133 kB)\n",
      "Collecting nvidia-cuda-nvrtc-cu11==11.7.99 (from torch>=1.6.0->sentence_transformers)\n",
      "  Using cached nvidia_cuda_nvrtc_cu11-11.7.99-2-py3-none-manylinux1_x86_64.whl (21.0 MB)\n",
      "Collecting nvidia-cuda-runtime-cu11==11.7.99 (from torch>=1.6.0->sentence_transformers)\n",
      "  Using cached nvidia_cuda_runtime_cu11-11.7.99-py3-none-manylinux1_x86_64.whl (849 kB)\n",
      "Collecting nvidia-cuda-cupti-cu11==11.7.101 (from torch>=1.6.0->sentence_transformers)\n",
      "  Using cached nvidia_cuda_cupti_cu11-11.7.101-py3-none-manylinux1_x86_64.whl (11.8 MB)\n",
      "Collecting nvidia-cudnn-cu11==8.5.0.96 (from torch>=1.6.0->sentence_transformers)\n",
      "  Using cached nvidia_cudnn_cu11-8.5.0.96-2-py3-none-manylinux1_x86_64.whl (557.1 MB)\n",
      "Collecting nvidia-cublas-cu11==11.10.3.66 (from torch>=1.6.0->sentence_transformers)\n",
      "  Using cached nvidia_cublas_cu11-11.10.3.66-py3-none-manylinux1_x86_64.whl (317.1 MB)\n",
      "Collecting nvidia-cufft-cu11==10.9.0.58 (from torch>=1.6.0->sentence_transformers)\n",
      "  Using cached nvidia_cufft_cu11-10.9.0.58-py3-none-manylinux1_x86_64.whl (168.4 MB)\n",
      "Collecting nvidia-curand-cu11==10.2.10.91 (from torch>=1.6.0->sentence_transformers)\n",
      "  Using cached nvidia_curand_cu11-10.2.10.91-py3-none-manylinux1_x86_64.whl (54.6 MB)\n",
      "Collecting nvidia-cusolver-cu11==11.4.0.1 (from torch>=1.6.0->sentence_transformers)\n",
      "  Using cached nvidia_cusolver_cu11-11.4.0.1-2-py3-none-manylinux1_x86_64.whl (102.6 MB)\n",
      "Collecting nvidia-cusparse-cu11==11.7.4.91 (from torch>=1.6.0->sentence_transformers)\n",
      "  Using cached nvidia_cusparse_cu11-11.7.4.91-py3-none-manylinux1_x86_64.whl (173.2 MB)\n",
      "Collecting nvidia-nccl-cu11==2.14.3 (from torch>=1.6.0->sentence_transformers)\n",
      "  Using cached nvidia_nccl_cu11-2.14.3-py3-none-manylinux1_x86_64.whl (177.1 MB)\n",
      "Collecting nvidia-nvtx-cu11==11.7.91 (from torch>=1.6.0->sentence_transformers)\n",
      "  Using cached nvidia_nvtx_cu11-11.7.91-py3-none-manylinux1_x86_64.whl (98 kB)\n",
      "Collecting triton==2.0.0 (from torch>=1.6.0->sentence_transformers)\n",
      "  Downloading triton-2.0.0-1-cp310-cp310-manylinux2014_x86_64.manylinux_2_17_x86_64.whl (63.3 MB)\n",
      "\u001b[2K     \u001b[90m━━━━━━━━━━━━━━━━━━━━━━━━━━━━━━━━━━━━━━━━\u001b[0m \u001b[32m63.3/63.3 MB\u001b[0m \u001b[31m10.5 MB/s\u001b[0m eta \u001b[36m0:00:00\u001b[0m00:01\u001b[0m00:01\u001b[0m\n",
      "\u001b[?25hRequirement already satisfied: setuptools in /home/gonza/miniconda3/envs/env3.10/lib/python3.10/site-packages (from nvidia-cublas-cu11==11.10.3.66->torch>=1.6.0->sentence_transformers) (67.8.0)\n",
      "Requirement already satisfied: wheel in /home/gonza/miniconda3/envs/env3.10/lib/python3.10/site-packages (from nvidia-cublas-cu11==11.10.3.66->torch>=1.6.0->sentence_transformers) (0.38.4)\n",
      "Collecting cmake (from triton==2.0.0->torch>=1.6.0->sentence_transformers)\n",
      "  Downloading cmake-3.27.0-py2.py3-none-manylinux2014_x86_64.manylinux_2_17_x86_64.whl (26.0 MB)\n",
      "\u001b[2K     \u001b[90m━━━━━━━━━━━━━━━━━━━━━━━━━━━━━━━━━━━━━━━━\u001b[0m \u001b[32m26.0/26.0 MB\u001b[0m \u001b[31m12.6 MB/s\u001b[0m eta \u001b[36m0:00:00\u001b[0m00:01\u001b[0m00:01\u001b[0m\n",
      "\u001b[?25hCollecting lit (from triton==2.0.0->torch>=1.6.0->sentence_transformers)\n",
      "  Using cached lit-16.0.6-py3-none-any.whl\n",
      "Collecting regex!=2019.12.17 (from transformers<5.0.0,>=4.6.0->sentence_transformers)\n",
      "  Using cached regex-2023.6.3-cp310-cp310-manylinux_2_17_x86_64.manylinux2014_x86_64.whl (770 kB)\n",
      "Requirement already satisfied: tokenizers!=0.11.3,<0.14,>=0.11.1 in /home/gonza/miniconda3/envs/env3.10/lib/python3.10/site-packages (from transformers<5.0.0,>=4.6.0->sentence_transformers) (0.13.3)\n",
      "Collecting safetensors>=0.3.1 (from transformers<5.0.0,>=4.6.0->sentence_transformers)\n",
      "  Using cached safetensors-0.3.1-cp310-cp310-manylinux_2_17_x86_64.manylinux2014_x86_64.whl (1.3 MB)\n",
      "Requirement already satisfied: click in /home/gonza/miniconda3/envs/env3.10/lib/python3.10/site-packages (from nltk->sentence_transformers) (8.1.6)\n",
      "Collecting joblib (from nltk->sentence_transformers)\n",
      "  Using cached joblib-1.3.1-py3-none-any.whl (301 kB)\n",
      "Collecting threadpoolctl>=2.0.0 (from scikit-learn->sentence_transformers)\n",
      "  Using cached threadpoolctl-3.2.0-py3-none-any.whl (15 kB)\n",
      "Collecting pillow!=8.3.*,>=5.3.0 (from torchvision->sentence_transformers)\n",
      "  Using cached Pillow-10.0.0-cp310-cp310-manylinux_2_28_x86_64.whl (3.4 MB)\n",
      "Collecting MarkupSafe>=2.0 (from jinja2->torch>=1.6.0->sentence_transformers)\n",
      "  Using cached MarkupSafe-2.1.3-cp310-cp310-manylinux_2_17_x86_64.manylinux2014_x86_64.whl (25 kB)\n",
      "Requirement already satisfied: charset-normalizer<4,>=2 in /home/gonza/miniconda3/envs/env3.10/lib/python3.10/site-packages (from requests->huggingface-hub>=0.4.0->sentence_transformers) (3.2.0)\n",
      "Requirement already satisfied: idna<4,>=2.5 in /home/gonza/miniconda3/envs/env3.10/lib/python3.10/site-packages (from requests->huggingface-hub>=0.4.0->sentence_transformers) (3.4)\n",
      "Requirement already satisfied: urllib3<3,>=1.21.1 in /home/gonza/miniconda3/envs/env3.10/lib/python3.10/site-packages (from requests->huggingface-hub>=0.4.0->sentence_transformers) (2.0.4)\n",
      "Requirement already satisfied: certifi>=2017.4.17 in /home/gonza/miniconda3/envs/env3.10/lib/python3.10/site-packages (from requests->huggingface-hub>=0.4.0->sentence_transformers) (2023.5.7)\n",
      "Requirement already satisfied: mpmath>=0.19 in /home/gonza/miniconda3/envs/env3.10/lib/python3.10/site-packages (from sympy->torch>=1.6.0->sentence_transformers) (1.3.0)\n",
      "Building wheels for collected packages: sentence_transformers\n",
      "  Building wheel for sentence_transformers (setup.py) ... \u001b[?25ldone\n",
      "\u001b[?25h  Created wheel for sentence_transformers: filename=sentence_transformers-2.2.2-py3-none-any.whl size=125925 sha256=efcda6b6600d29ef439d31cec09a892237eaf464dda18950991c208887bb5aa3\n",
      "  Stored in directory: /home/gonza/.cache/pip/wheels/62/f2/10/1e606fd5f02395388f74e7462910fe851042f97238cbbd902f\n",
      "Successfully built sentence_transformers\n",
      "Installing collected packages: sentencepiece, safetensors, lit, cmake, threadpoolctl, scipy, regex, pillow, nvidia-nvtx-cu11, nvidia-nccl-cu11, nvidia-cusparse-cu11, nvidia-curand-cu11, nvidia-cufft-cu11, nvidia-cuda-runtime-cu11, nvidia-cuda-nvrtc-cu11, nvidia-cuda-cupti-cu11, nvidia-cublas-cu11, networkx, MarkupSafe, joblib, fsspec, filelock, scikit-learn, nvidia-cusolver-cu11, nvidia-cudnn-cu11, nltk, jinja2, huggingface-hub, transformers, triton, torch, torchvision, sentence_transformers\n",
      "Successfully installed MarkupSafe-2.1.3 cmake-3.27.0 filelock-3.12.2 fsspec-2023.6.0 huggingface-hub-0.16.4 jinja2-3.1.2 joblib-1.3.1 lit-16.0.6 networkx-3.1 nltk-3.8.1 nvidia-cublas-cu11-11.10.3.66 nvidia-cuda-cupti-cu11-11.7.101 nvidia-cuda-nvrtc-cu11-11.7.99 nvidia-cuda-runtime-cu11-11.7.99 nvidia-cudnn-cu11-8.5.0.96 nvidia-cufft-cu11-10.9.0.58 nvidia-curand-cu11-10.2.10.91 nvidia-cusolver-cu11-11.4.0.1 nvidia-cusparse-cu11-11.7.4.91 nvidia-nccl-cu11-2.14.3 nvidia-nvtx-cu11-11.7.91 pillow-10.0.0 regex-2023.6.3 safetensors-0.3.1 scikit-learn-1.3.0 scipy-1.11.1 sentence_transformers-2.2.2 sentencepiece-0.1.99 threadpoolctl-3.2.0 torch-2.0.1 torchvision-0.15.2 transformers-4.31.0 triton-2.0.0\n"
     ]
    }
   ],
   "source": [
    "!pip install sentence_transformers"
   ]
  },
  {
   "cell_type": "code",
   "execution_count": 19,
   "metadata": {},
   "outputs": [
    {
     "name": "stderr",
     "output_type": "stream",
     "text": [
      "/home/gonza/miniconda3/envs/env3.10/lib/python3.10/site-packages/tqdm/auto.py:21: TqdmWarning: IProgress not found. Please update jupyter and ipywidgets. See https://ipywidgets.readthedocs.io/en/stable/user_install.html\n",
      "  from .autonotebook import tqdm as notebook_tqdm\n"
     ]
    }
   ],
   "source": [
    "# create the open-source embedding function\n",
    "embedding_function = SentenceTransformerEmbeddings(model_name=\"all-MiniLM-L6-v2\")\n",
    "\n",
    "# load it into Chroma\n",
    "db = Chroma.from_documents(docs, embedding_function)"
   ]
  },
  {
   "cell_type": "code",
   "execution_count": 22,
   "metadata": {},
   "outputs": [
    {
     "data": {
      "text/plain": [
       "langchain.vectorstores.chroma.Chroma"
      ]
     },
     "execution_count": 22,
     "metadata": {},
     "output_type": "execute_result"
    }
   ],
   "source": [
    "type(db)"
   ]
  },
  {
   "cell_type": "code",
   "execution_count": 23,
   "metadata": {},
   "outputs": [
    {
     "name": "stdout",
     "output_type": "stream",
     "text": [
      "85  \n",
      " \n",
      " \n",
      " \n",
      "SIGNATURES \n",
      " \n",
      "Pursuant to the requirements of Section 13 or 15(d) of th e Securities Exchange Act of 1934, the registrant has duly \n",
      "caused this annual report to be signed on its behalf by the undersigned thereunto duly authorized, in the City of \n",
      "Ewing, State of New Jersey, on March 13, 2013.  \n",
      "  ANTARES PHARMA, INC. \n",
      " \n",
      "  /s/Paul K. Wotton \n",
      "  Dr. Paul K. Wotton   President and Chief Executive Officer \n",
      " Pursuant to the requirements of Section 13 or 15(d) of th e Securities Exchange Act of 1934, this annual report has \n",
      "been signed by the following persons on behalf of the registrant in the capacities indicated on March 13, 2013. \n",
      " \n",
      "Signature \n",
      "Title \n",
      " \n",
      "/s/Paul K. Wotton  \n",
      "President and Chief Executive Officer, Director \n",
      "Dr. Paul K. Wotton (Principal Executive Officer) \n",
      " \n",
      "/s/Robert F. Apple  \n",
      "Executive Vice President and Chief Financial Officer  \n",
      "Robert F. Apple (Principal Financial and Accounting Officer) \n",
      " \n",
      "/s/Leonard S. Jacob  \n",
      "Director, Chairman of the Board \n",
      "Dr. Leonard S. Jacob  \n",
      " \n",
      "/s/Thomas J. Garrity  \n",
      "Director \n",
      "Thomas J. Garrity  \n",
      " \n",
      "/s/Jacques Gonella  \n",
      "Director \n",
      "Dr. Jacques Gonella  \n",
      " \n",
      "/s/Anton G. Gueth  \n",
      "Director \n",
      "Anton G. Gueth  \n",
      " \n",
      "/s/Rajesh Shrotriya  \n",
      "Director \n",
      "Dr. Rajesh Shrotriya  \n",
      " \n",
      "/s/Eamonn P. Hobbs  \n",
      "Director \n",
      "Eamonn P. Hobbs\n"
     ]
    }
   ],
   "source": [
    "# query it\n",
    "query = \"\"\n",
    "docs = db.similarity_search(query)\n",
    "\n",
    "# print results\n",
    "print(docs[0].page_content)"
   ]
  }
 ],
 "metadata": {
  "kernelspec": {
   "display_name": "env3.10",
   "language": "python",
   "name": "python3"
  },
  "language_info": {
   "codemirror_mode": {
    "name": "ipython",
    "version": 3
   },
   "file_extension": ".py",
   "mimetype": "text/x-python",
   "name": "python",
   "nbconvert_exporter": "python",
   "pygments_lexer": "ipython3",
   "version": "3.10.12"
  },
  "orig_nbformat": 4
 },
 "nbformat": 4,
 "nbformat_minor": 2
}
